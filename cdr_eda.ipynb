{
 "cells": [
  {
   "cell_type": "code",
   "execution_count": 1,
   "metadata": {},
   "outputs": [
    {
     "name": "stdout",
     "output_type": "stream",
     "text": [
      "MSysAccessObjects\n",
      "MSysAccessXML\n",
      "MSysACEs\n",
      "MSysNameMap\n",
      "MSysNavPaneGroupCategories\n",
      "MSysNavPaneGroups\n",
      "MSysNavPaneGroupToObjects\n",
      "MSysNavPaneObjectIDs\n",
      "MSysObjects\n",
      "MSysQueries\n",
      "MSysRelationships\n",
      "customerCalls\n",
      "customerInformation\n",
      "incomming\n",
      "model\n",
      "model-OffPeak\n",
      "model-Peak\n",
      "Paste Errors\n",
      "phoneNumberData\n",
      "phoneNumberType\n",
      "Table1\n",
      "timeData\n",
      "timePlans\n",
      "customerCalls Query\n",
      "customerCalls Query1\n",
      "customerCalls Query2\n",
      "customerInformation Query\n",
      "Intl\n",
      "model Query\n",
      "model Query1\n",
      "qryAllOutputs4Weeks\n",
      "qryCallInfo4Weeks\n",
      "qryCallSummary4Weeksv2\n",
      "qryCodeCounts\n",
      "qryGetLocalCodes\n",
      "qryHighRisk-CallSummary4Weeks2\n",
      "qryLowRisk-CallSummary4Weeks2\n",
      "qryModels\n",
      "qryPeriodIncomming-4Weeks\n",
      "qryTimeData\n",
      "qryTimeDataChrt\n",
      "qryTimePlans\n"
     ]
    }
   ],
   "source": [
    "import pandas as pd\n",
    "import pyodbc\n",
    "conn = pyodbc.connect(r'Driver={Microsoft Access Driver (*.mdb, *.accdb)};DBQ=C:\\Users\\Administrator\\Downloads\\INTERN_CDR\\CDR_Data.mdb;')\n",
    "cursor = conn.cursor()\n",
    "\n",
    "'''cnxn   = pyodbc.connect(...)\n",
    "cursor = cnxn.cursor()'''\n",
    "\n",
    "for row in cursor.tables():\n",
    "    print (row.table_name)"
   ]
  },
  {
   "cell_type": "code",
   "execution_count": 2,
   "metadata": {},
   "outputs": [
    {
     "data": {
      "text/html": [
       "<div>\n",
       "<style scoped>\n",
       "    .dataframe tbody tr th:only-of-type {\n",
       "        vertical-align: middle;\n",
       "    }\n",
       "\n",
       "    .dataframe tbody tr th {\n",
       "        vertical-align: top;\n",
       "    }\n",
       "\n",
       "    .dataframe thead th {\n",
       "        text-align: right;\n",
       "    }\n",
       "</style>\n",
       "<table border=\"1\" class=\"dataframe\">\n",
       "  <thead>\n",
       "    <tr style=\"text-align: right;\">\n",
       "      <th></th>\n",
       "      <th>customerPhoneNumber</th>\n",
       "      <th>incomingCalls</th>\n",
       "      <th>modelID</th>\n",
       "      <th>dataType</th>\n",
       "    </tr>\n",
       "  </thead>\n",
       "  <tbody>\n",
       "    <tr>\n",
       "      <th>0</th>\n",
       "      <td>0296393418</td>\n",
       "      <td>250</td>\n",
       "      <td>1</td>\n",
       "      <td>1</td>\n",
       "    </tr>\n",
       "    <tr>\n",
       "      <th>1</th>\n",
       "      <td>0141382566</td>\n",
       "      <td>239</td>\n",
       "      <td>1</td>\n",
       "      <td>2</td>\n",
       "    </tr>\n",
       "    <tr>\n",
       "      <th>2</th>\n",
       "      <td>0187219904</td>\n",
       "      <td>254</td>\n",
       "      <td>1</td>\n",
       "      <td>3</td>\n",
       "    </tr>\n",
       "    <tr>\n",
       "      <th>3</th>\n",
       "      <td>0144631092</td>\n",
       "      <td>255</td>\n",
       "      <td>1</td>\n",
       "      <td>4</td>\n",
       "    </tr>\n",
       "    <tr>\n",
       "      <th>4</th>\n",
       "      <td>0159361948</td>\n",
       "      <td>255</td>\n",
       "      <td>1</td>\n",
       "      <td>0</td>\n",
       "    </tr>\n",
       "    <tr>\n",
       "      <th>...</th>\n",
       "      <td>...</td>\n",
       "      <td>...</td>\n",
       "      <td>...</td>\n",
       "      <td>...</td>\n",
       "    </tr>\n",
       "    <tr>\n",
       "      <th>1043</th>\n",
       "      <td>0138869101</td>\n",
       "      <td>244</td>\n",
       "      <td>20</td>\n",
       "      <td>1</td>\n",
       "    </tr>\n",
       "    <tr>\n",
       "      <th>1044</th>\n",
       "      <td>0284124565</td>\n",
       "      <td>250</td>\n",
       "      <td>20</td>\n",
       "      <td>2</td>\n",
       "    </tr>\n",
       "    <tr>\n",
       "      <th>1045</th>\n",
       "      <td>0147115510</td>\n",
       "      <td>249</td>\n",
       "      <td>20</td>\n",
       "      <td>3</td>\n",
       "    </tr>\n",
       "    <tr>\n",
       "      <th>1046</th>\n",
       "      <td>0177249622</td>\n",
       "      <td>253</td>\n",
       "      <td>20</td>\n",
       "      <td>4</td>\n",
       "    </tr>\n",
       "    <tr>\n",
       "      <th>1047</th>\n",
       "      <td>0125595988</td>\n",
       "      <td>251</td>\n",
       "      <td>20</td>\n",
       "      <td>0</td>\n",
       "    </tr>\n",
       "  </tbody>\n",
       "</table>\n",
       "<p>1048 rows × 4 columns</p>\n",
       "</div>"
      ],
      "text/plain": [
       "     customerPhoneNumber  incomingCalls  modelID  dataType\n",
       "0             0296393418            250        1         1\n",
       "1             0141382566            239        1         2\n",
       "2             0187219904            254        1         3\n",
       "3             0144631092            255        1         4\n",
       "4             0159361948            255        1         0\n",
       "...                  ...            ...      ...       ...\n",
       "1043          0138869101            244       20         1\n",
       "1044          0284124565            250       20         2\n",
       "1045          0147115510            249       20         3\n",
       "1046          0177249622            253       20         4\n",
       "1047          0125595988            251       20         0\n",
       "\n",
       "[1048 rows x 4 columns]"
      ]
     },
     "execution_count": 2,
     "metadata": {},
     "output_type": "execute_result"
    }
   ],
   "source": [
    "SQL_Query = pd.read_sql_query(\n",
    "'''SELECT * FROM customerInformation''', conn)\n",
    "\n",
    "df = pd.DataFrame(SQL_Query, columns=['customerPhoneNumber','incomingCalls', 'modelID', 'dataType'])\n",
    "df"
   ]
  },
  {
   "cell_type": "code",
   "execution_count": 3,
   "metadata": {},
   "outputs": [
    {
     "data": {
      "text/html": [
       "<div>\n",
       "<style scoped>\n",
       "    .dataframe tbody tr th:only-of-type {\n",
       "        vertical-align: middle;\n",
       "    }\n",
       "\n",
       "    .dataframe tbody tr th {\n",
       "        vertical-align: top;\n",
       "    }\n",
       "\n",
       "    .dataframe thead th {\n",
       "        text-align: right;\n",
       "    }\n",
       "</style>\n",
       "<table border=\"1\" class=\"dataframe\">\n",
       "  <thead>\n",
       "    <tr style=\"text-align: right;\">\n",
       "      <th></th>\n",
       "      <th>customerPhoneNumber</th>\n",
       "      <th>incomingCalls</th>\n",
       "      <th>modelID</th>\n",
       "      <th>dataType</th>\n",
       "    </tr>\n",
       "  </thead>\n",
       "  <tbody>\n",
       "    <tr>\n",
       "      <th>0</th>\n",
       "      <td>0296393418</td>\n",
       "      <td>250</td>\n",
       "      <td>1</td>\n",
       "      <td>1</td>\n",
       "    </tr>\n",
       "    <tr>\n",
       "      <th>1</th>\n",
       "      <td>0141382566</td>\n",
       "      <td>239</td>\n",
       "      <td>1</td>\n",
       "      <td>2</td>\n",
       "    </tr>\n",
       "    <tr>\n",
       "      <th>2</th>\n",
       "      <td>0187219904</td>\n",
       "      <td>254</td>\n",
       "      <td>1</td>\n",
       "      <td>3</td>\n",
       "    </tr>\n",
       "    <tr>\n",
       "      <th>3</th>\n",
       "      <td>0144631092</td>\n",
       "      <td>255</td>\n",
       "      <td>1</td>\n",
       "      <td>4</td>\n",
       "    </tr>\n",
       "    <tr>\n",
       "      <th>4</th>\n",
       "      <td>0159361948</td>\n",
       "      <td>255</td>\n",
       "      <td>1</td>\n",
       "      <td>0</td>\n",
       "    </tr>\n",
       "    <tr>\n",
       "      <th>5</th>\n",
       "      <td>0172146676</td>\n",
       "      <td>256</td>\n",
       "      <td>1</td>\n",
       "      <td>1</td>\n",
       "    </tr>\n",
       "    <tr>\n",
       "      <th>6</th>\n",
       "      <td>0114946582</td>\n",
       "      <td>248</td>\n",
       "      <td>1</td>\n",
       "      <td>2</td>\n",
       "    </tr>\n",
       "    <tr>\n",
       "      <th>7</th>\n",
       "      <td>0168966959</td>\n",
       "      <td>255</td>\n",
       "      <td>1</td>\n",
       "      <td>3</td>\n",
       "    </tr>\n",
       "    <tr>\n",
       "      <th>8</th>\n",
       "      <td>0134913794</td>\n",
       "      <td>240</td>\n",
       "      <td>1</td>\n",
       "      <td>4</td>\n",
       "    </tr>\n",
       "    <tr>\n",
       "      <th>9</th>\n",
       "      <td>0172531410</td>\n",
       "      <td>251</td>\n",
       "      <td>1</td>\n",
       "      <td>0</td>\n",
       "    </tr>\n",
       "  </tbody>\n",
       "</table>\n",
       "</div>"
      ],
      "text/plain": [
       "  customerPhoneNumber  incomingCalls  modelID  dataType\n",
       "0          0296393418            250        1         1\n",
       "1          0141382566            239        1         2\n",
       "2          0187219904            254        1         3\n",
       "3          0144631092            255        1         4\n",
       "4          0159361948            255        1         0\n",
       "5          0172146676            256        1         1\n",
       "6          0114946582            248        1         2\n",
       "7          0168966959            255        1         3\n",
       "8          0134913794            240        1         4\n",
       "9          0172531410            251        1         0"
      ]
     },
     "execution_count": 3,
     "metadata": {},
     "output_type": "execute_result"
    }
   ],
   "source": [
    "SQL_Query = pd.read_sql_query(\n",
    "str.format('''SELECT top {0} * FROM customerInformation''', 10), conn)\n",
    "\n",
    "df = pd.DataFrame(SQL_Query, columns=['customerPhoneNumber','incomingCalls', 'modelID', 'dataType'])\n",
    "df"
   ]
  },
  {
   "cell_type": "code",
   "execution_count": 4,
   "metadata": {},
   "outputs": [
    {
     "data": {
      "text/html": [
       "<div>\n",
       "<style scoped>\n",
       "    .dataframe tbody tr th:only-of-type {\n",
       "        vertical-align: middle;\n",
       "    }\n",
       "\n",
       "    .dataframe tbody tr th {\n",
       "        vertical-align: top;\n",
       "    }\n",
       "\n",
       "    .dataframe thead th {\n",
       "        text-align: right;\n",
       "    }\n",
       "</style>\n",
       "<table border=\"1\" class=\"dataframe\">\n",
       "  <thead>\n",
       "    <tr style=\"text-align: right;\">\n",
       "      <th></th>\n",
       "      <th>typeID</th>\n",
       "      <th>typeName</th>\n",
       "    </tr>\n",
       "  </thead>\n",
       "  <tbody>\n",
       "    <tr>\n",
       "      <th>0</th>\n",
       "      <td>1</td>\n",
       "      <td>Free</td>\n",
       "    </tr>\n",
       "    <tr>\n",
       "      <th>1</th>\n",
       "      <td>2</td>\n",
       "      <td>Local</td>\n",
       "    </tr>\n",
       "    <tr>\n",
       "      <th>2</th>\n",
       "      <td>3</td>\n",
       "      <td>National</td>\n",
       "    </tr>\n",
       "    <tr>\n",
       "      <th>3</th>\n",
       "      <td>4</td>\n",
       "      <td>Intl</td>\n",
       "    </tr>\n",
       "    <tr>\n",
       "      <th>4</th>\n",
       "      <td>5</td>\n",
       "      <td>PRS</td>\n",
       "    </tr>\n",
       "    <tr>\n",
       "      <th>5</th>\n",
       "      <td>6</td>\n",
       "      <td>Mobile</td>\n",
       "    </tr>\n",
       "  </tbody>\n",
       "</table>\n",
       "</div>"
      ],
      "text/plain": [
       "   typeID  typeName\n",
       "0       1      Free\n",
       "1       2     Local\n",
       "2       3  National\n",
       "3       4      Intl\n",
       "4       5       PRS\n",
       "5       6    Mobile"
      ]
     },
     "execution_count": 4,
     "metadata": {},
     "output_type": "execute_result"
    }
   ],
   "source": [
    "SQL_Query = pd.read_sql_query(\n",
    "    '''Select * from phoneNumberType\n",
    "    ''',conn)\n",
    "\n",
    "df = pd.DataFrame(SQL_Query)\n",
    "df"
   ]
  },
  {
   "cell_type": "code",
   "execution_count": 5,
   "metadata": {},
   "outputs": [
    {
     "data": {
      "text/plain": [
       "Index(['callID', 'customerPhoneNumber', 'startDate', 'endDate', 'callStart',\n",
       "       'callEnd', 'phoneNumber', 'callType', 'callCost', 'customerPhoneNumber',\n",
       "       'incomingCalls', 'modelID', 'dataType', 'modelID', 'modelName',\n",
       "       'numAccounts', 'callsMean', 'callsStdDev', 'startDate', 'endDate',\n",
       "       'offPeakStart', 'offPeakEnd', 'numIncommingMean', 'numIncommingStdDev',\n",
       "       'fraudulent', 'mon', 'tue', 'wed', 'thur', 'fri', 'sat', 'sun',\n",
       "       'meanNumOutLocal', 'stdDevNumOutLocal', 'meanNumOutFree',\n",
       "       'stdDevNumOutFree', 'meanNumOutNational', 'stdDevNumOutNational',\n",
       "       'meanNumOutIntl', 'stdDevNumOutIntl', 'meanNumOutPRS',\n",
       "       'stdDevNumOutPRS', 'meanNumOutMobile', 'stdDevNumOutMobile',\n",
       "       'meanPhoneLines', 'stdDevPhoneLines'],\n",
       "      dtype='object')"
      ]
     },
     "execution_count": 5,
     "metadata": {},
     "output_type": "execute_result"
    }
   ],
   "source": [
    "SQL_Query = pd.read_sql_query(\n",
    "    '''Select top 10  * from ((customerCalls cusCall\n",
    "        INNER join customerinformation cusInfo on \n",
    "        cusCall.customerphoneNumber = cusInfo.customerphoneNumber)\n",
    "        INNER JOIN model mdl on mdl.modelID = cusInfo.modelID)\n",
    "    ''',conn)\n",
    "\n",
    "df = pd.DataFrame(SQL_Query)\n",
    "df.columns"
   ]
  },
  {
   "cell_type": "code",
   "execution_count": 6,
   "metadata": {},
   "outputs": [
    {
     "data": {
      "text/html": [
       "<div>\n",
       "<style scoped>\n",
       "    .dataframe tbody tr th:only-of-type {\n",
       "        vertical-align: middle;\n",
       "    }\n",
       "\n",
       "    .dataframe tbody tr th {\n",
       "        vertical-align: top;\n",
       "    }\n",
       "\n",
       "    .dataframe thead th {\n",
       "        text-align: right;\n",
       "    }\n",
       "</style>\n",
       "<table border=\"1\" class=\"dataframe\">\n",
       "  <thead>\n",
       "    <tr style=\"text-align: right;\">\n",
       "      <th></th>\n",
       "      <th>callID</th>\n",
       "      <th>customerPhoneNumber</th>\n",
       "      <th>startDate</th>\n",
       "      <th>endDate</th>\n",
       "      <th>callStart</th>\n",
       "      <th>callEnd</th>\n",
       "      <th>callType</th>\n",
       "      <th>callCost</th>\n",
       "      <th>incomingCalls</th>\n",
       "      <th>modelID</th>\n",
       "      <th>modelName</th>\n",
       "      <th>fraudulent</th>\n",
       "    </tr>\n",
       "  </thead>\n",
       "  <tbody>\n",
       "    <tr>\n",
       "      <th>0</th>\n",
       "      <td>1</td>\n",
       "      <td>0296393418</td>\n",
       "      <td>2013-01-02</td>\n",
       "      <td>2013-01-02</td>\n",
       "      <td>1899-12-30 06:25:00</td>\n",
       "      <td>1899-12-30 06:28:00</td>\n",
       "      <td>National</td>\n",
       "      <td>15.113445</td>\n",
       "      <td>250</td>\n",
       "      <td>1</td>\n",
       "      <td>Normal Average</td>\n",
       "      <td>False</td>\n",
       "    </tr>\n",
       "    <tr>\n",
       "      <th>1</th>\n",
       "      <td>2</td>\n",
       "      <td>0296393418</td>\n",
       "      <td>2013-10-02</td>\n",
       "      <td>2013-10-02</td>\n",
       "      <td>1899-12-30 10:00:00</td>\n",
       "      <td>1899-12-30 10:05:00</td>\n",
       "      <td>National</td>\n",
       "      <td>23.026891</td>\n",
       "      <td>250</td>\n",
       "      <td>1</td>\n",
       "      <td>Normal Average</td>\n",
       "      <td>False</td>\n",
       "    </tr>\n",
       "    <tr>\n",
       "      <th>2</th>\n",
       "      <td>3</td>\n",
       "      <td>0296393418</td>\n",
       "      <td>2013-01-20</td>\n",
       "      <td>2013-01-20</td>\n",
       "      <td>1899-12-30 16:45:00</td>\n",
       "      <td>1899-12-30 17:12:00</td>\n",
       "      <td>Local</td>\n",
       "      <td>27.176660</td>\n",
       "      <td>250</td>\n",
       "      <td>1</td>\n",
       "      <td>Normal Average</td>\n",
       "      <td>False</td>\n",
       "    </tr>\n",
       "    <tr>\n",
       "      <th>3</th>\n",
       "      <td>4</td>\n",
       "      <td>0296393418</td>\n",
       "      <td>2013-01-21</td>\n",
       "      <td>2013-01-21</td>\n",
       "      <td>1899-12-30 20:35:00</td>\n",
       "      <td>1899-12-30 20:58:00</td>\n",
       "      <td>Local</td>\n",
       "      <td>23.828167</td>\n",
       "      <td>250</td>\n",
       "      <td>1</td>\n",
       "      <td>Normal Average</td>\n",
       "      <td>False</td>\n",
       "    </tr>\n",
       "    <tr>\n",
       "      <th>4</th>\n",
       "      <td>5</td>\n",
       "      <td>0296393418</td>\n",
       "      <td>2013-02-03</td>\n",
       "      <td>2013-02-03</td>\n",
       "      <td>1899-12-30 21:20:00</td>\n",
       "      <td>1899-12-30 21:51:00</td>\n",
       "      <td>Local</td>\n",
       "      <td>31.088230</td>\n",
       "      <td>250</td>\n",
       "      <td>1</td>\n",
       "      <td>Normal Average</td>\n",
       "      <td>False</td>\n",
       "    </tr>\n",
       "    <tr>\n",
       "      <th>...</th>\n",
       "      <td>...</td>\n",
       "      <td>...</td>\n",
       "      <td>...</td>\n",
       "      <td>...</td>\n",
       "      <td>...</td>\n",
       "      <td>...</td>\n",
       "      <td>...</td>\n",
       "      <td>...</td>\n",
       "      <td>...</td>\n",
       "      <td>...</td>\n",
       "      <td>...</td>\n",
       "      <td>...</td>\n",
       "    </tr>\n",
       "    <tr>\n",
       "      <th>49995</th>\n",
       "      <td>49996</td>\n",
       "      <td>0194653110</td>\n",
       "      <td>2013-02-26</td>\n",
       "      <td>2013-02-26</td>\n",
       "      <td>1899-12-30 21:00:00</td>\n",
       "      <td>1899-12-30 21:15:00</td>\n",
       "      <td>Local</td>\n",
       "      <td>15.136757</td>\n",
       "      <td>256</td>\n",
       "      <td>2</td>\n",
       "      <td>Normal No International</td>\n",
       "      <td>False</td>\n",
       "    </tr>\n",
       "    <tr>\n",
       "      <th>49996</th>\n",
       "      <td>49997</td>\n",
       "      <td>0194653110</td>\n",
       "      <td>2013-06-01</td>\n",
       "      <td>2013-06-01</td>\n",
       "      <td>1899-12-30 15:15:00</td>\n",
       "      <td>1899-12-30 15:16:00</td>\n",
       "      <td>Mobile</td>\n",
       "      <td>16.605813</td>\n",
       "      <td>256</td>\n",
       "      <td>2</td>\n",
       "      <td>Normal No International</td>\n",
       "      <td>False</td>\n",
       "    </tr>\n",
       "    <tr>\n",
       "      <th>49997</th>\n",
       "      <td>49998</td>\n",
       "      <td>0194653110</td>\n",
       "      <td>2013-07-02</td>\n",
       "      <td>2013-07-02</td>\n",
       "      <td>1899-12-30 18:40:00</td>\n",
       "      <td>1899-12-30 18:41:00</td>\n",
       "      <td>Free</td>\n",
       "      <td>0.000000</td>\n",
       "      <td>256</td>\n",
       "      <td>2</td>\n",
       "      <td>Normal No International</td>\n",
       "      <td>False</td>\n",
       "    </tr>\n",
       "    <tr>\n",
       "      <th>49998</th>\n",
       "      <td>49999</td>\n",
       "      <td>0194653110</td>\n",
       "      <td>2013-01-26</td>\n",
       "      <td>2013-01-26</td>\n",
       "      <td>1899-12-30 19:25:00</td>\n",
       "      <td>1899-12-30 19:50:00</td>\n",
       "      <td>Local</td>\n",
       "      <td>25.070203</td>\n",
       "      <td>256</td>\n",
       "      <td>2</td>\n",
       "      <td>Normal No International</td>\n",
       "      <td>False</td>\n",
       "    </tr>\n",
       "    <tr>\n",
       "      <th>49999</th>\n",
       "      <td>50000</td>\n",
       "      <td>0194653110</td>\n",
       "      <td>2013-02-23</td>\n",
       "      <td>2013-02-23</td>\n",
       "      <td>1899-12-30 15:35:00</td>\n",
       "      <td>1899-12-30 15:35:00</td>\n",
       "      <td>Mobile</td>\n",
       "      <td>0.487611</td>\n",
       "      <td>256</td>\n",
       "      <td>2</td>\n",
       "      <td>Normal No International</td>\n",
       "      <td>False</td>\n",
       "    </tr>\n",
       "  </tbody>\n",
       "</table>\n",
       "<p>50000 rows × 12 columns</p>\n",
       "</div>"
      ],
      "text/plain": [
       "       callID customerPhoneNumber  startDate    endDate           callStart  \\\n",
       "0           1          0296393418 2013-01-02 2013-01-02 1899-12-30 06:25:00   \n",
       "1           2          0296393418 2013-10-02 2013-10-02 1899-12-30 10:00:00   \n",
       "2           3          0296393418 2013-01-20 2013-01-20 1899-12-30 16:45:00   \n",
       "3           4          0296393418 2013-01-21 2013-01-21 1899-12-30 20:35:00   \n",
       "4           5          0296393418 2013-02-03 2013-02-03 1899-12-30 21:20:00   \n",
       "...       ...                 ...        ...        ...                 ...   \n",
       "49995   49996          0194653110 2013-02-26 2013-02-26 1899-12-30 21:00:00   \n",
       "49996   49997          0194653110 2013-06-01 2013-06-01 1899-12-30 15:15:00   \n",
       "49997   49998          0194653110 2013-07-02 2013-07-02 1899-12-30 18:40:00   \n",
       "49998   49999          0194653110 2013-01-26 2013-01-26 1899-12-30 19:25:00   \n",
       "49999   50000          0194653110 2013-02-23 2013-02-23 1899-12-30 15:35:00   \n",
       "\n",
       "                  callEnd  callType   callCost  incomingCalls  modelID  \\\n",
       "0     1899-12-30 06:28:00  National  15.113445            250        1   \n",
       "1     1899-12-30 10:05:00  National  23.026891            250        1   \n",
       "2     1899-12-30 17:12:00     Local  27.176660            250        1   \n",
       "3     1899-12-30 20:58:00     Local  23.828167            250        1   \n",
       "4     1899-12-30 21:51:00     Local  31.088230            250        1   \n",
       "...                   ...       ...        ...            ...      ...   \n",
       "49995 1899-12-30 21:15:00     Local  15.136757            256        2   \n",
       "49996 1899-12-30 15:16:00    Mobile  16.605813            256        2   \n",
       "49997 1899-12-30 18:41:00      Free   0.000000            256        2   \n",
       "49998 1899-12-30 19:50:00     Local  25.070203            256        2   \n",
       "49999 1899-12-30 15:35:00    Mobile   0.487611            256        2   \n",
       "\n",
       "                     modelName  fraudulent  \n",
       "0               Normal Average       False  \n",
       "1               Normal Average       False  \n",
       "2               Normal Average       False  \n",
       "3               Normal Average       False  \n",
       "4               Normal Average       False  \n",
       "...                        ...         ...  \n",
       "49995  Normal No International       False  \n",
       "49996  Normal No International       False  \n",
       "49997  Normal No International       False  \n",
       "49998  Normal No International       False  \n",
       "49999  Normal No International       False  \n",
       "\n",
       "[50000 rows x 12 columns]"
      ]
     },
     "execution_count": 6,
     "metadata": {},
     "output_type": "execute_result"
    }
   ],
   "source": [
    "import pyodbc\n",
    "import pandas as pd\n",
    "\n",
    "conn = pyodbc.connect(r'Driver={Microsoft Access Driver (*.mdb, *.accdb)};DBQ=C:\\Users\\Administrator\\Downloads\\INTERN_CDR\\CDR_Data.mdb;')\n",
    "SQL_Query = pd.read_sql_query(\n",
    "    '''SELECT TOP 50000\n",
    "        cusCall.callID, \n",
    "        cusCall.customerPhoneNumber, \n",
    "        cusCall.startDate,\n",
    "        cusCall.endDate,\n",
    "        cusCall.callStart,\n",
    "        cusCall.callEnd,\n",
    "        cusCall.callType,\n",
    "        cusCall.callCost,\n",
    "        cusInfo.incomingCalls,\n",
    "        cusInfo.modelID,\n",
    "        mdl.modelName,\n",
    "        mdl.fraudulent\n",
    "        FROM ((customerCalls cusCall\n",
    "        INNER JOIN customerinformation cusInfo ON \n",
    "        cusCall.customerphoneNumber = cusInfo.customerphoneNumber)\n",
    "        INNER JOIN model mdl ON mdl.modelID = cusInfo.modelID)\n",
    "    ''', conn)\n",
    "\n",
    "df_data = pd.DataFrame(SQL_Query)\n",
    "df_data"
   ]
  },
  {
   "cell_type": "code",
   "execution_count": 7,
   "metadata": {},
   "outputs": [],
   "source": [
    "df_data = df_data.assign(startDay = df_data['startDate'].dt.day_name())\n",
    "df_data = df_data.assign(endDay = df_data['endDate'].dt.day_name())"
   ]
  },
  {
   "cell_type": "code",
   "execution_count": 8,
   "metadata": {},
   "outputs": [],
   "source": [
    "from sklearn.model_selection import train_test_split\n",
    "df_data_X = df_data[[\"callID\", \"callStart\", \"callEnd\", \"startDay\", \"endDay\", \"callType\", \"callCost\"]]\n",
    "df_data_y = df_data[\"fraudulent\"].astype(int)\n",
    "X_train_data_set, X_test_data_set, y_train_data_set, y_test_data_set = train_test_split(df_data_X, df_data_y, test_size=0.33, random_state=9)"
   ]
  },
  {
   "cell_type": "code",
   "execution_count": 9,
   "metadata": {},
   "outputs": [
    {
     "data": {
      "text/plain": [
       "0    0\n",
       "1    0\n",
       "2    0\n",
       "3    0\n",
       "4    0\n",
       "Name: fraudulent, dtype: int32"
      ]
     },
     "execution_count": 9,
     "metadata": {},
     "output_type": "execute_result"
    }
   ],
   "source": [
    "df_data_y.head()"
   ]
  },
  {
   "cell_type": "code",
   "execution_count": 10,
   "metadata": {},
   "outputs": [
    {
     "data": {
      "text/html": [
       "<div>\n",
       "<style scoped>\n",
       "    .dataframe tbody tr th:only-of-type {\n",
       "        vertical-align: middle;\n",
       "    }\n",
       "\n",
       "    .dataframe tbody tr th {\n",
       "        vertical-align: top;\n",
       "    }\n",
       "\n",
       "    .dataframe thead th {\n",
       "        text-align: right;\n",
       "    }\n",
       "</style>\n",
       "<table border=\"1\" class=\"dataframe\">\n",
       "  <thead>\n",
       "    <tr style=\"text-align: right;\">\n",
       "      <th></th>\n",
       "      <th>callID</th>\n",
       "      <th>callStart</th>\n",
       "      <th>callEnd</th>\n",
       "      <th>startDay</th>\n",
       "      <th>endDay</th>\n",
       "      <th>callType</th>\n",
       "      <th>callCost</th>\n",
       "    </tr>\n",
       "  </thead>\n",
       "  <tbody>\n",
       "    <tr>\n",
       "      <th>20972</th>\n",
       "      <td>20973</td>\n",
       "      <td>1899-12-30 21:15:00</td>\n",
       "      <td>1899-12-30 21:51:00</td>\n",
       "      <td>Thursday</td>\n",
       "      <td>Thursday</td>\n",
       "      <td>Local</td>\n",
       "      <td>36.211013</td>\n",
       "    </tr>\n",
       "    <tr>\n",
       "      <th>40833</th>\n",
       "      <td>40834</td>\n",
       "      <td>1899-12-30 22:00:00</td>\n",
       "      <td>1899-12-30 22:03:00</td>\n",
       "      <td>Wednesday</td>\n",
       "      <td>Wednesday</td>\n",
       "      <td>National</td>\n",
       "      <td>13.526986</td>\n",
       "    </tr>\n",
       "    <tr>\n",
       "      <th>37949</th>\n",
       "      <td>37950</td>\n",
       "      <td>1899-12-30 15:40:00</td>\n",
       "      <td>1899-12-30 15:58:00</td>\n",
       "      <td>Sunday</td>\n",
       "      <td>Sunday</td>\n",
       "      <td>Local</td>\n",
       "      <td>18.694535</td>\n",
       "    </tr>\n",
       "    <tr>\n",
       "      <th>18108</th>\n",
       "      <td>18109</td>\n",
       "      <td>1899-12-30 13:20:00</td>\n",
       "      <td>1899-12-30 13:35:00</td>\n",
       "      <td>Tuesday</td>\n",
       "      <td>Tuesday</td>\n",
       "      <td>Mobile</td>\n",
       "      <td>236.024526</td>\n",
       "    </tr>\n",
       "    <tr>\n",
       "      <th>46326</th>\n",
       "      <td>46327</td>\n",
       "      <td>1899-12-30 03:10:00</td>\n",
       "      <td>1899-12-30 03:43:00</td>\n",
       "      <td>Thursday</td>\n",
       "      <td>Thursday</td>\n",
       "      <td>Local</td>\n",
       "      <td>33.852937</td>\n",
       "    </tr>\n",
       "  </tbody>\n",
       "</table>\n",
       "</div>"
      ],
      "text/plain": [
       "       callID           callStart             callEnd   startDay     endDay  \\\n",
       "20972   20973 1899-12-30 21:15:00 1899-12-30 21:51:00   Thursday   Thursday   \n",
       "40833   40834 1899-12-30 22:00:00 1899-12-30 22:03:00  Wednesday  Wednesday   \n",
       "37949   37950 1899-12-30 15:40:00 1899-12-30 15:58:00     Sunday     Sunday   \n",
       "18108   18109 1899-12-30 13:20:00 1899-12-30 13:35:00    Tuesday    Tuesday   \n",
       "46326   46327 1899-12-30 03:10:00 1899-12-30 03:43:00   Thursday   Thursday   \n",
       "\n",
       "       callType    callCost  \n",
       "20972     Local   36.211013  \n",
       "40833  National   13.526986  \n",
       "37949     Local   18.694535  \n",
       "18108    Mobile  236.024526  \n",
       "46326     Local   33.852937  "
      ]
     },
     "execution_count": 10,
     "metadata": {},
     "output_type": "execute_result"
    }
   ],
   "source": [
    "X_train_data_set.head()"
   ]
  },
  {
   "cell_type": "code",
   "execution_count": 11,
   "metadata": {},
   "outputs": [
    {
     "name": "stdout",
     "output_type": "stream",
     "text": [
      "-----------------Description--------------------\n",
      "\n",
      "             callID      callCost\n",
      "count  33500.000000  33500.000000\n",
      "mean   24927.783284     56.663373\n",
      "std    14406.839791     85.498527\n",
      "min        1.000000      0.000000\n",
      "25%    12494.750000     14.877737\n",
      "50%    24892.500000     26.510394\n",
      "75%    37355.500000     54.053796\n",
      "max    50000.000000    959.411192\n",
      "\n",
      "\n",
      "-----------------Information--------------------\n",
      "\n",
      "<class 'pandas.core.frame.DataFrame'>\n",
      "Int64Index: 33500 entries, 20972 to 20828\n",
      "Data columns (total 7 columns):\n",
      " #   Column     Non-Null Count  Dtype         \n",
      "---  ------     --------------  -----         \n",
      " 0   callID     33500 non-null  int64         \n",
      " 1   callStart  33500 non-null  datetime64[ns]\n",
      " 2   callEnd    33500 non-null  datetime64[ns]\n",
      " 3   startDay   33500 non-null  object        \n",
      " 4   endDay     33500 non-null  object        \n",
      " 5   callType   33500 non-null  object        \n",
      " 6   callCost   33500 non-null  float64       \n",
      "dtypes: datetime64[ns](2), float64(1), int64(1), object(3)\n",
      "memory usage: 2.0+ MB\n",
      "None\n"
     ]
    }
   ],
   "source": [
    "print(\"-----------------Description--------------------\\n\")\n",
    "print(X_train_data_set.describe())\n",
    "print(\"\\n\\n-----------------Information--------------------\\n\")\n",
    "print(X_train_data_set.info())"
   ]
  },
  {
   "cell_type": "code",
   "execution_count": 12,
   "metadata": {},
   "outputs": [
    {
     "data": {
      "text/html": [
       "<div>\n",
       "<style scoped>\n",
       "    .dataframe tbody tr th:only-of-type {\n",
       "        vertical-align: middle;\n",
       "    }\n",
       "\n",
       "    .dataframe tbody tr th {\n",
       "        vertical-align: top;\n",
       "    }\n",
       "\n",
       "    .dataframe thead th {\n",
       "        text-align: right;\n",
       "    }\n",
       "</style>\n",
       "<table border=\"1\" class=\"dataframe\">\n",
       "  <thead>\n",
       "    <tr style=\"text-align: right;\">\n",
       "      <th></th>\n",
       "      <th>Call Type</th>\n",
       "      <th>Field1</th>\n",
       "    </tr>\n",
       "  </thead>\n",
       "  <tbody>\n",
       "    <tr>\n",
       "      <th>0</th>\n",
       "      <td>4</td>\n",
       "      <td>09001</td>\n",
       "    </tr>\n",
       "    <tr>\n",
       "      <th>1</th>\n",
       "      <td>4</td>\n",
       "      <td>09002</td>\n",
       "    </tr>\n",
       "    <tr>\n",
       "      <th>2</th>\n",
       "      <td>4</td>\n",
       "      <td>090030</td>\n",
       "    </tr>\n",
       "    <tr>\n",
       "      <th>3</th>\n",
       "      <td>4</td>\n",
       "      <td>090031</td>\n",
       "    </tr>\n",
       "    <tr>\n",
       "      <th>4</th>\n",
       "      <td>4</td>\n",
       "      <td>090032</td>\n",
       "    </tr>\n",
       "    <tr>\n",
       "      <th>5</th>\n",
       "      <td>4</td>\n",
       "      <td>090033</td>\n",
       "    </tr>\n",
       "    <tr>\n",
       "      <th>6</th>\n",
       "      <td>4</td>\n",
       "      <td>090034</td>\n",
       "    </tr>\n",
       "    <tr>\n",
       "      <th>7</th>\n",
       "      <td>4</td>\n",
       "      <td>090035</td>\n",
       "    </tr>\n",
       "    <tr>\n",
       "      <th>8</th>\n",
       "      <td>4</td>\n",
       "      <td>090036</td>\n",
       "    </tr>\n",
       "    <tr>\n",
       "      <th>9</th>\n",
       "      <td>4</td>\n",
       "      <td>090037</td>\n",
       "    </tr>\n",
       "  </tbody>\n",
       "</table>\n",
       "</div>"
      ],
      "text/plain": [
       "   Call Type  Field1\n",
       "0          4   09001\n",
       "1          4   09002\n",
       "2          4  090030\n",
       "3          4  090031\n",
       "4          4  090032\n",
       "5          4  090033\n",
       "6          4  090034\n",
       "7          4  090035\n",
       "8          4  090036\n",
       "9          4  090037"
      ]
     },
     "execution_count": 12,
     "metadata": {},
     "output_type": "execute_result"
    }
   ],
   "source": [
    "SQL_Query = pd.read_sql_query(\n",
    "str.format('''SELECT top {0} * FROM Intl''', 10), conn)\n",
    "\n",
    "df = pd.DataFrame(SQL_Query)\n",
    "df"
   ]
  },
  {
   "cell_type": "code",
   "execution_count": 13,
   "metadata": {},
   "outputs": [
    {
     "name": "stdout",
     "output_type": "stream",
     "text": [
      "-----------------Description--------------------\n",
      "\n",
      "             callID      callCost\n",
      "count  33500.000000  33500.000000\n",
      "mean   24927.783284     56.663373\n",
      "std    14406.839791     85.498527\n",
      "min        1.000000      0.000000\n",
      "25%    12494.750000     14.877737\n",
      "50%    24892.500000     26.510394\n",
      "75%    37355.500000     54.053796\n",
      "max    50000.000000    959.411192\n",
      "\n",
      "\n",
      "-----------------Information--------------------\n",
      "\n",
      "<class 'pandas.core.frame.DataFrame'>\n",
      "Int64Index: 33500 entries, 20972 to 20828\n",
      "Data columns (total 7 columns):\n",
      " #   Column     Non-Null Count  Dtype         \n",
      "---  ------     --------------  -----         \n",
      " 0   callID     33500 non-null  int64         \n",
      " 1   callStart  33500 non-null  datetime64[ns]\n",
      " 2   callEnd    33500 non-null  datetime64[ns]\n",
      " 3   startDay   33500 non-null  object        \n",
      " 4   endDay     33500 non-null  object        \n",
      " 5   callType   33500 non-null  object        \n",
      " 6   callCost   33500 non-null  float64       \n",
      "dtypes: datetime64[ns](2), float64(1), int64(1), object(3)\n",
      "memory usage: 2.0+ MB\n",
      "None\n"
     ]
    },
    {
     "data": {
      "text/html": [
       "<div>\n",
       "<style scoped>\n",
       "    .dataframe tbody tr th:only-of-type {\n",
       "        vertical-align: middle;\n",
       "    }\n",
       "\n",
       "    .dataframe tbody tr th {\n",
       "        vertical-align: top;\n",
       "    }\n",
       "\n",
       "    .dataframe thead th {\n",
       "        text-align: right;\n",
       "    }\n",
       "</style>\n",
       "<table border=\"1\" class=\"dataframe\">\n",
       "  <thead>\n",
       "    <tr style=\"text-align: right;\">\n",
       "      <th></th>\n",
       "      <th>callID</th>\n",
       "      <th>callStart</th>\n",
       "      <th>callEnd</th>\n",
       "      <th>startDay</th>\n",
       "      <th>endDay</th>\n",
       "      <th>callType</th>\n",
       "      <th>callCost</th>\n",
       "    </tr>\n",
       "  </thead>\n",
       "  <tbody>\n",
       "    <tr>\n",
       "      <th>20972</th>\n",
       "      <td>20973</td>\n",
       "      <td>1899-12-30 21:15:00</td>\n",
       "      <td>1899-12-30 21:51:00</td>\n",
       "      <td>Thursday</td>\n",
       "      <td>Thursday</td>\n",
       "      <td>Local</td>\n",
       "      <td>36.211013</td>\n",
       "    </tr>\n",
       "    <tr>\n",
       "      <th>40833</th>\n",
       "      <td>40834</td>\n",
       "      <td>1899-12-30 22:00:00</td>\n",
       "      <td>1899-12-30 22:03:00</td>\n",
       "      <td>Wednesday</td>\n",
       "      <td>Wednesday</td>\n",
       "      <td>National</td>\n",
       "      <td>13.526986</td>\n",
       "    </tr>\n",
       "    <tr>\n",
       "      <th>37949</th>\n",
       "      <td>37950</td>\n",
       "      <td>1899-12-30 15:40:00</td>\n",
       "      <td>1899-12-30 15:58:00</td>\n",
       "      <td>Sunday</td>\n",
       "      <td>Sunday</td>\n",
       "      <td>Local</td>\n",
       "      <td>18.694535</td>\n",
       "    </tr>\n",
       "    <tr>\n",
       "      <th>18108</th>\n",
       "      <td>18109</td>\n",
       "      <td>1899-12-30 13:20:00</td>\n",
       "      <td>1899-12-30 13:35:00</td>\n",
       "      <td>Tuesday</td>\n",
       "      <td>Tuesday</td>\n",
       "      <td>Mobile</td>\n",
       "      <td>236.024526</td>\n",
       "    </tr>\n",
       "    <tr>\n",
       "      <th>46326</th>\n",
       "      <td>46327</td>\n",
       "      <td>1899-12-30 03:10:00</td>\n",
       "      <td>1899-12-30 03:43:00</td>\n",
       "      <td>Thursday</td>\n",
       "      <td>Thursday</td>\n",
       "      <td>Local</td>\n",
       "      <td>33.852937</td>\n",
       "    </tr>\n",
       "  </tbody>\n",
       "</table>\n",
       "</div>"
      ],
      "text/plain": [
       "       callID           callStart             callEnd   startDay     endDay  \\\n",
       "20972   20973 1899-12-30 21:15:00 1899-12-30 21:51:00   Thursday   Thursday   \n",
       "40833   40834 1899-12-30 22:00:00 1899-12-30 22:03:00  Wednesday  Wednesday   \n",
       "37949   37950 1899-12-30 15:40:00 1899-12-30 15:58:00     Sunday     Sunday   \n",
       "18108   18109 1899-12-30 13:20:00 1899-12-30 13:35:00    Tuesday    Tuesday   \n",
       "46326   46327 1899-12-30 03:10:00 1899-12-30 03:43:00   Thursday   Thursday   \n",
       "\n",
       "       callType    callCost  \n",
       "20972     Local   36.211013  \n",
       "40833  National   13.526986  \n",
       "37949     Local   18.694535  \n",
       "18108    Mobile  236.024526  \n",
       "46326     Local   33.852937  "
      ]
     },
     "execution_count": 13,
     "metadata": {},
     "output_type": "execute_result"
    }
   ],
   "source": [
    "print(\"-----------------Description--------------------\\n\")\n",
    "print(X_train_data_set.describe())\n",
    "print(\"\\n\\n-----------------Information--------------------\\n\")\n",
    "print(X_train_data_set.info())\n",
    "X_train_data_set.head()"
   ]
  },
  {
   "cell_type": "code",
   "execution_count": 14,
   "metadata": {},
   "outputs": [
    {
     "data": {
      "text/html": [
       "<div>\n",
       "<style scoped>\n",
       "    .dataframe tbody tr th:only-of-type {\n",
       "        vertical-align: middle;\n",
       "    }\n",
       "\n",
       "    .dataframe tbody tr th {\n",
       "        vertical-align: top;\n",
       "    }\n",
       "\n",
       "    .dataframe thead th {\n",
       "        text-align: right;\n",
       "    }\n",
       "</style>\n",
       "<table border=\"1\" class=\"dataframe\">\n",
       "  <thead>\n",
       "    <tr style=\"text-align: right;\">\n",
       "      <th></th>\n",
       "      <th>Call Type</th>\n",
       "      <th>Field1</th>\n",
       "    </tr>\n",
       "  </thead>\n",
       "  <tbody>\n",
       "    <tr>\n",
       "      <th>0</th>\n",
       "      <td>4</td>\n",
       "      <td>09001</td>\n",
       "    </tr>\n",
       "    <tr>\n",
       "      <th>1</th>\n",
       "      <td>4</td>\n",
       "      <td>09002</td>\n",
       "    </tr>\n",
       "    <tr>\n",
       "      <th>2</th>\n",
       "      <td>4</td>\n",
       "      <td>090030</td>\n",
       "    </tr>\n",
       "    <tr>\n",
       "      <th>3</th>\n",
       "      <td>4</td>\n",
       "      <td>090031</td>\n",
       "    </tr>\n",
       "    <tr>\n",
       "      <th>4</th>\n",
       "      <td>4</td>\n",
       "      <td>090032</td>\n",
       "    </tr>\n",
       "    <tr>\n",
       "      <th>5</th>\n",
       "      <td>4</td>\n",
       "      <td>090033</td>\n",
       "    </tr>\n",
       "    <tr>\n",
       "      <th>6</th>\n",
       "      <td>4</td>\n",
       "      <td>090034</td>\n",
       "    </tr>\n",
       "    <tr>\n",
       "      <th>7</th>\n",
       "      <td>4</td>\n",
       "      <td>090035</td>\n",
       "    </tr>\n",
       "    <tr>\n",
       "      <th>8</th>\n",
       "      <td>4</td>\n",
       "      <td>090036</td>\n",
       "    </tr>\n",
       "    <tr>\n",
       "      <th>9</th>\n",
       "      <td>4</td>\n",
       "      <td>090037</td>\n",
       "    </tr>\n",
       "  </tbody>\n",
       "</table>\n",
       "</div>"
      ],
      "text/plain": [
       "   Call Type  Field1\n",
       "0          4   09001\n",
       "1          4   09002\n",
       "2          4  090030\n",
       "3          4  090031\n",
       "4          4  090032\n",
       "5          4  090033\n",
       "6          4  090034\n",
       "7          4  090035\n",
       "8          4  090036\n",
       "9          4  090037"
      ]
     },
     "execution_count": 14,
     "metadata": {},
     "output_type": "execute_result"
    }
   ],
   "source": [
    "SQL_Query = pd.read_sql_query(\n",
    "str.format('''SELECT top {0} * FROM Intl''', 10), conn)\n",
    "\n",
    "df = pd.DataFrame(SQL_Query)\n",
    "df"
   ]
  },
  {
   "cell_type": "code",
   "execution_count": 15,
   "metadata": {},
   "outputs": [
    {
     "name": "stdout",
     "output_type": "stream",
     "text": [
      "-----------------Description--------------------\n",
      "\n",
      "             callID      callCost\n",
      "count  33500.000000  33500.000000\n",
      "mean   24927.783284     56.663373\n",
      "std    14406.839791     85.498527\n",
      "min        1.000000      0.000000\n",
      "25%    12494.750000     14.877737\n",
      "50%    24892.500000     26.510394\n",
      "75%    37355.500000     54.053796\n",
      "max    50000.000000    959.411192\n",
      "\n",
      "\n",
      "-----------------Information--------------------\n",
      "\n",
      "<class 'pandas.core.frame.DataFrame'>\n",
      "Int64Index: 33500 entries, 20972 to 20828\n",
      "Data columns (total 7 columns):\n",
      " #   Column     Non-Null Count  Dtype         \n",
      "---  ------     --------------  -----         \n",
      " 0   callID     33500 non-null  int64         \n",
      " 1   callStart  33500 non-null  datetime64[ns]\n",
      " 2   callEnd    33500 non-null  datetime64[ns]\n",
      " 3   startDay   33500 non-null  object        \n",
      " 4   endDay     33500 non-null  object        \n",
      " 5   callType   33500 non-null  object        \n",
      " 6   callCost   33500 non-null  float64       \n",
      "dtypes: datetime64[ns](2), float64(1), int64(1), object(3)\n",
      "memory usage: 2.0+ MB\n",
      "None\n"
     ]
    },
    {
     "data": {
      "text/html": [
       "<div>\n",
       "<style scoped>\n",
       "    .dataframe tbody tr th:only-of-type {\n",
       "        vertical-align: middle;\n",
       "    }\n",
       "\n",
       "    .dataframe tbody tr th {\n",
       "        vertical-align: top;\n",
       "    }\n",
       "\n",
       "    .dataframe thead th {\n",
       "        text-align: right;\n",
       "    }\n",
       "</style>\n",
       "<table border=\"1\" class=\"dataframe\">\n",
       "  <thead>\n",
       "    <tr style=\"text-align: right;\">\n",
       "      <th></th>\n",
       "      <th>callID</th>\n",
       "      <th>callStart</th>\n",
       "      <th>callEnd</th>\n",
       "      <th>startDay</th>\n",
       "      <th>endDay</th>\n",
       "      <th>callType</th>\n",
       "      <th>callCost</th>\n",
       "    </tr>\n",
       "  </thead>\n",
       "  <tbody>\n",
       "    <tr>\n",
       "      <th>20972</th>\n",
       "      <td>20973</td>\n",
       "      <td>1899-12-30 21:15:00</td>\n",
       "      <td>1899-12-30 21:51:00</td>\n",
       "      <td>Thursday</td>\n",
       "      <td>Thursday</td>\n",
       "      <td>Local</td>\n",
       "      <td>36.211013</td>\n",
       "    </tr>\n",
       "    <tr>\n",
       "      <th>40833</th>\n",
       "      <td>40834</td>\n",
       "      <td>1899-12-30 22:00:00</td>\n",
       "      <td>1899-12-30 22:03:00</td>\n",
       "      <td>Wednesday</td>\n",
       "      <td>Wednesday</td>\n",
       "      <td>National</td>\n",
       "      <td>13.526986</td>\n",
       "    </tr>\n",
       "    <tr>\n",
       "      <th>37949</th>\n",
       "      <td>37950</td>\n",
       "      <td>1899-12-30 15:40:00</td>\n",
       "      <td>1899-12-30 15:58:00</td>\n",
       "      <td>Sunday</td>\n",
       "      <td>Sunday</td>\n",
       "      <td>Local</td>\n",
       "      <td>18.694535</td>\n",
       "    </tr>\n",
       "    <tr>\n",
       "      <th>18108</th>\n",
       "      <td>18109</td>\n",
       "      <td>1899-12-30 13:20:00</td>\n",
       "      <td>1899-12-30 13:35:00</td>\n",
       "      <td>Tuesday</td>\n",
       "      <td>Tuesday</td>\n",
       "      <td>Mobile</td>\n",
       "      <td>236.024526</td>\n",
       "    </tr>\n",
       "    <tr>\n",
       "      <th>46326</th>\n",
       "      <td>46327</td>\n",
       "      <td>1899-12-30 03:10:00</td>\n",
       "      <td>1899-12-30 03:43:00</td>\n",
       "      <td>Thursday</td>\n",
       "      <td>Thursday</td>\n",
       "      <td>Local</td>\n",
       "      <td>33.852937</td>\n",
       "    </tr>\n",
       "  </tbody>\n",
       "</table>\n",
       "</div>"
      ],
      "text/plain": [
       "       callID           callStart             callEnd   startDay     endDay  \\\n",
       "20972   20973 1899-12-30 21:15:00 1899-12-30 21:51:00   Thursday   Thursday   \n",
       "40833   40834 1899-12-30 22:00:00 1899-12-30 22:03:00  Wednesday  Wednesday   \n",
       "37949   37950 1899-12-30 15:40:00 1899-12-30 15:58:00     Sunday     Sunday   \n",
       "18108   18109 1899-12-30 13:20:00 1899-12-30 13:35:00    Tuesday    Tuesday   \n",
       "46326   46327 1899-12-30 03:10:00 1899-12-30 03:43:00   Thursday   Thursday   \n",
       "\n",
       "       callType    callCost  \n",
       "20972     Local   36.211013  \n",
       "40833  National   13.526986  \n",
       "37949     Local   18.694535  \n",
       "18108    Mobile  236.024526  \n",
       "46326     Local   33.852937  "
      ]
     },
     "execution_count": 15,
     "metadata": {},
     "output_type": "execute_result"
    }
   ],
   "source": [
    "print(\"-----------------Description--------------------\\n\")\n",
    "print(X_train_data_set.describe())\n",
    "print(\"\\n\\n-----------------Information--------------------\\n\")\n",
    "print(X_train_data_set.info())\n",
    "X_train_data_set.head()"
   ]
  },
  {
   "cell_type": "code",
   "execution_count": 16,
   "metadata": {},
   "outputs": [],
   "source": [
    "import datetime \n",
    "import calendar\n",
    "import numpy as np\n",
    "from sklearn.base import BaseEstimator, TransformerMixin\n",
    "\n",
    "class CallDurationAttribute(BaseEstimator, TransformerMixin):\n",
    "\n",
    "    def __init__(self, includeSeconds=False):\n",
    "        self.includeSeconds = includeSeconds\n",
    "        \n",
    "    def fit(self, X, y=None):\n",
    "        return self\n",
    "    \n",
    "    def transform(self, X, y=None):\n",
    "        callDuration = pd.DataFrame(X[:,2] - X[:,1])\n",
    "        \n",
    "      \n",
    "        duration_hours = callDuration.apply(lambda h : h[0].components[1], axis=1)\n",
    "        duration_minutes = callDuration.apply(lambda m : m[0].components[2], axis=1)\n",
    "        \n",
    "        \n",
    "        \n",
    "        \n",
    "        if self.includeSeconds:  \n",
    "            duration_seconds = callDuration.apply(lambda s : s[0].components[3], axis=1)\n",
    "            \n",
    "            return np.c_[X, duration_hours, duration_minutes, duration_seconds]\n",
    "        else:\n",
    "            return np.c_[X, duration_hours, duration_minutes]\n",
    "        "
   ]
  },
  {
   "cell_type": "code",
   "execution_count": 17,
   "metadata": {},
   "outputs": [
    {
     "data": {
      "text/html": [
       "<div>\n",
       "<style scoped>\n",
       "    .dataframe tbody tr th:only-of-type {\n",
       "        vertical-align: middle;\n",
       "    }\n",
       "\n",
       "    .dataframe tbody tr th {\n",
       "        vertical-align: top;\n",
       "    }\n",
       "\n",
       "    .dataframe thead th {\n",
       "        text-align: right;\n",
       "    }\n",
       "</style>\n",
       "<table border=\"1\" class=\"dataframe\">\n",
       "  <thead>\n",
       "    <tr style=\"text-align: right;\">\n",
       "      <th></th>\n",
       "      <th>callID</th>\n",
       "      <th>callStart</th>\n",
       "      <th>callEnd</th>\n",
       "      <th>startDay</th>\n",
       "      <th>endDay</th>\n",
       "      <th>callType</th>\n",
       "      <th>callCost</th>\n",
       "    </tr>\n",
       "  </thead>\n",
       "  <tbody>\n",
       "    <tr>\n",
       "      <th>20972</th>\n",
       "      <td>20973</td>\n",
       "      <td>1899-12-30 21:15:00</td>\n",
       "      <td>1899-12-30 21:51:00</td>\n",
       "      <td>Thursday</td>\n",
       "      <td>Thursday</td>\n",
       "      <td>Local</td>\n",
       "      <td>36.211013</td>\n",
       "    </tr>\n",
       "    <tr>\n",
       "      <th>40833</th>\n",
       "      <td>40834</td>\n",
       "      <td>1899-12-30 22:00:00</td>\n",
       "      <td>1899-12-30 22:03:00</td>\n",
       "      <td>Wednesday</td>\n",
       "      <td>Wednesday</td>\n",
       "      <td>National</td>\n",
       "      <td>13.526986</td>\n",
       "    </tr>\n",
       "    <tr>\n",
       "      <th>37949</th>\n",
       "      <td>37950</td>\n",
       "      <td>1899-12-30 15:40:00</td>\n",
       "      <td>1899-12-30 15:58:00</td>\n",
       "      <td>Sunday</td>\n",
       "      <td>Sunday</td>\n",
       "      <td>Local</td>\n",
       "      <td>18.694535</td>\n",
       "    </tr>\n",
       "    <tr>\n",
       "      <th>18108</th>\n",
       "      <td>18109</td>\n",
       "      <td>1899-12-30 13:20:00</td>\n",
       "      <td>1899-12-30 13:35:00</td>\n",
       "      <td>Tuesday</td>\n",
       "      <td>Tuesday</td>\n",
       "      <td>Mobile</td>\n",
       "      <td>236.024526</td>\n",
       "    </tr>\n",
       "    <tr>\n",
       "      <th>46326</th>\n",
       "      <td>46327</td>\n",
       "      <td>1899-12-30 03:10:00</td>\n",
       "      <td>1899-12-30 03:43:00</td>\n",
       "      <td>Thursday</td>\n",
       "      <td>Thursday</td>\n",
       "      <td>Local</td>\n",
       "      <td>33.852937</td>\n",
       "    </tr>\n",
       "  </tbody>\n",
       "</table>\n",
       "</div>"
      ],
      "text/plain": [
       "       callID           callStart             callEnd   startDay     endDay  \\\n",
       "20972   20973 1899-12-30 21:15:00 1899-12-30 21:51:00   Thursday   Thursday   \n",
       "40833   40834 1899-12-30 22:00:00 1899-12-30 22:03:00  Wednesday  Wednesday   \n",
       "37949   37950 1899-12-30 15:40:00 1899-12-30 15:58:00     Sunday     Sunday   \n",
       "18108   18109 1899-12-30 13:20:00 1899-12-30 13:35:00    Tuesday    Tuesday   \n",
       "46326   46327 1899-12-30 03:10:00 1899-12-30 03:43:00   Thursday   Thursday   \n",
       "\n",
       "       callType    callCost  \n",
       "20972     Local   36.211013  \n",
       "40833  National   13.526986  \n",
       "37949     Local   18.694535  \n",
       "18108    Mobile  236.024526  \n",
       "46326     Local   33.852937  "
      ]
     },
     "execution_count": 17,
     "metadata": {},
     "output_type": "execute_result"
    }
   ],
   "source": [
    "X_train_data_set.head()"
   ]
  },
  {
   "cell_type": "code",
   "execution_count": 18,
   "metadata": {},
   "outputs": [],
   "source": [
    "class CallDayAttribute(BaseEstimator, TransformerMixin):\n",
    "\n",
    "    def __init__(self):\n",
    "        pass\n",
    "        \n",
    "    def fit(self, X, y=None):\n",
    "        return self\n",
    "    \n",
    "    def transform(self, X, y=None):\n",
    "        callDay = pd.DataFrame(X[:,0])\n",
    "        \n",
    "        call_Day =callDay[0].dt.day_name()\n",
    "      \n",
    "        return np.c_[X, call_Day]"
   ]
  },
  {
   "cell_type": "code",
   "execution_count": 19,
   "metadata": {},
   "outputs": [],
   "source": [
    "class AttributeSelector(BaseEstimator, TransformerMixin):\n",
    "\n",
    "    def __init__(self, attribute_names):\n",
    "        self.attribute_names = attribute_names\n",
    "        \n",
    "    def fit(self, X, y=None):\n",
    "        return self\n",
    "    \n",
    "    def transform(self, X, y=None):  \n",
    "        return X[self.attribute_names].values\n",
    "    "
   ]
  },
  {
   "cell_type": "code",
   "execution_count": 20,
   "metadata": {},
   "outputs": [],
   "source": [
    "class DropDataFrameColumns(BaseEstimator, TransformerMixin):\n",
    "\n",
    "    def __init__(self, drop=True):\n",
    "        self.drop = drop\n",
    "        \n",
    "    def fit(self, X, y=None):\n",
    "        return self\n",
    "    \n",
    "    def transform(self, X, y=None):\n",
    "        \n",
    "        result = pd.DataFrame(X[:,3:])\n",
    "        return np.c_[result]\n",
    "        "
   ]
  },
  {
   "cell_type": "code",
   "execution_count": 21,
   "metadata": {},
   "outputs": [
    {
     "data": {
      "text/html": [
       "<div>\n",
       "<style scoped>\n",
       "    .dataframe tbody tr th:only-of-type {\n",
       "        vertical-align: middle;\n",
       "    }\n",
       "\n",
       "    .dataframe tbody tr th {\n",
       "        vertical-align: top;\n",
       "    }\n",
       "\n",
       "    .dataframe thead th {\n",
       "        text-align: right;\n",
       "    }\n",
       "</style>\n",
       "<table border=\"1\" class=\"dataframe\">\n",
       "  <thead>\n",
       "    <tr style=\"text-align: right;\">\n",
       "      <th></th>\n",
       "      <th>callID</th>\n",
       "      <th>callStart</th>\n",
       "      <th>callEnd</th>\n",
       "      <th>startDay</th>\n",
       "      <th>endDay</th>\n",
       "      <th>callType</th>\n",
       "      <th>callCost</th>\n",
       "    </tr>\n",
       "  </thead>\n",
       "  <tbody>\n",
       "    <tr>\n",
       "      <th>20972</th>\n",
       "      <td>20973</td>\n",
       "      <td>1899-12-30 21:15:00</td>\n",
       "      <td>1899-12-30 21:51:00</td>\n",
       "      <td>Thursday</td>\n",
       "      <td>Thursday</td>\n",
       "      <td>Local</td>\n",
       "      <td>36.211013</td>\n",
       "    </tr>\n",
       "    <tr>\n",
       "      <th>40833</th>\n",
       "      <td>40834</td>\n",
       "      <td>1899-12-30 22:00:00</td>\n",
       "      <td>1899-12-30 22:03:00</td>\n",
       "      <td>Wednesday</td>\n",
       "      <td>Wednesday</td>\n",
       "      <td>National</td>\n",
       "      <td>13.526986</td>\n",
       "    </tr>\n",
       "    <tr>\n",
       "      <th>37949</th>\n",
       "      <td>37950</td>\n",
       "      <td>1899-12-30 15:40:00</td>\n",
       "      <td>1899-12-30 15:58:00</td>\n",
       "      <td>Sunday</td>\n",
       "      <td>Sunday</td>\n",
       "      <td>Local</td>\n",
       "      <td>18.694535</td>\n",
       "    </tr>\n",
       "    <tr>\n",
       "      <th>18108</th>\n",
       "      <td>18109</td>\n",
       "      <td>1899-12-30 13:20:00</td>\n",
       "      <td>1899-12-30 13:35:00</td>\n",
       "      <td>Tuesday</td>\n",
       "      <td>Tuesday</td>\n",
       "      <td>Mobile</td>\n",
       "      <td>236.024526</td>\n",
       "    </tr>\n",
       "    <tr>\n",
       "      <th>46326</th>\n",
       "      <td>46327</td>\n",
       "      <td>1899-12-30 03:10:00</td>\n",
       "      <td>1899-12-30 03:43:00</td>\n",
       "      <td>Thursday</td>\n",
       "      <td>Thursday</td>\n",
       "      <td>Local</td>\n",
       "      <td>33.852937</td>\n",
       "    </tr>\n",
       "  </tbody>\n",
       "</table>\n",
       "</div>"
      ],
      "text/plain": [
       "       callID           callStart             callEnd   startDay     endDay  \\\n",
       "20972   20973 1899-12-30 21:15:00 1899-12-30 21:51:00   Thursday   Thursday   \n",
       "40833   40834 1899-12-30 22:00:00 1899-12-30 22:03:00  Wednesday  Wednesday   \n",
       "37949   37950 1899-12-30 15:40:00 1899-12-30 15:58:00     Sunday     Sunday   \n",
       "18108   18109 1899-12-30 13:20:00 1899-12-30 13:35:00    Tuesday    Tuesday   \n",
       "46326   46327 1899-12-30 03:10:00 1899-12-30 03:43:00   Thursday   Thursday   \n",
       "\n",
       "       callType    callCost  \n",
       "20972     Local   36.211013  \n",
       "40833  National   13.526986  \n",
       "37949     Local   18.694535  \n",
       "18108    Mobile  236.024526  \n",
       "46326     Local   33.852937  "
      ]
     },
     "execution_count": 21,
     "metadata": {},
     "output_type": "execute_result"
    }
   ],
   "source": [
    "X_train_data_set.head()"
   ]
  },
  {
   "cell_type": "code",
   "execution_count": 22,
   "metadata": {},
   "outputs": [],
   "source": [
    "from sklearn.preprocessing import LabelBinarizer\n",
    "\n",
    "class CustomLabelBinarizer(BaseEstimator, TransformerMixin):\n",
    "    def __init__(self, sparse_output=False):\n",
    "        self.sparse_output = sparse_output\n",
    "    def fit(self, X, y=None):\n",
    "        return self\n",
    "    def transform(self, X, y=None):\n",
    "        enc = LabelBinarizer(sparse_output=self.sparse_output)\n",
    "        return enc.fit_transform(X)"
   ]
  },
  {
   "cell_type": "code",
   "execution_count": 23,
   "metadata": {},
   "outputs": [],
   "source": [
    "from sklearn.preprocessing import MultiLabelBinarizer\n",
    "\n",
    "class CustomMultiLabelBinarizer(BaseEstimator, TransformerMixin):\n",
    "    def __init__(self, sparse_output=False):\n",
    "        self.sparse_output = sparse_output\n",
    "    def fit(self, X, y=None):\n",
    "        return self\n",
    "    def transform(self, X, y=None):\n",
    "        enc = MultiLabelBinarizer(sparse_output=self.sparse_output)\n",
    "        return enc.fit_transform(X)"
   ]
  },
  {
   "cell_type": "code",
   "execution_count": 24,
   "metadata": {},
   "outputs": [],
   "source": [
    "from sklearn.pipeline import Pipeline\n",
    "from sklearn.preprocessing import LabelBinarizer\n",
    "from sklearn.compose import ColumnTransformer\n",
    "\n",
    "duration_attributes = [\"callID\", \"callStart\", \"callEnd\"]\n",
    "callday_attributes = [\"startDate\"]\n",
    "cat_attributes = [\"callType\"]\n",
    "multilabel_cat_attributes = [\"startDay\"]\n",
    "\n",
    "duration_pipeline = Pipeline(\n",
    "    [\n",
    "        ('selector', AttributeSelector(duration_attributes)),\n",
    "        ('attr_add', CallDurationAttribute())\n",
    "    ]\n",
    ")\n",
    "\n",
    "cat_pipeline = Pipeline(\n",
    "    [\n",
    "        ('selector', AttributeSelector(cat_attributes)),\n",
    "        ('label_binarizer', CustomLabelBinarizer())\n",
    "    ]\n",
    ")\n",
    "\n",
    "multilable_cat_pipeline = Pipeline(\n",
    "    [\n",
    "        ('selector', AttributeSelector(multilabel_cat_attributes)),\n",
    "        ('label_binarizer', CustomLabelBinarizer())\n",
    "    ]\n",
    ")\n"
   ]
  },
  {
   "cell_type": "code",
   "execution_count": 25,
   "metadata": {},
   "outputs": [
    {
     "data": {
      "text/plain": [
       "array([[0, 36, 0, ..., 1, 0, 0],\n",
       "       [0, 3, 0, ..., 0, 0, 1],\n",
       "       [0, 18, 0, ..., 0, 0, 0],\n",
       "       ...,\n",
       "       [0, 11, 0, ..., 0, 0, 0],\n",
       "       [0, 12, 0, ..., 0, 1, 0],\n",
       "       [0, 20, 0, ..., 1, 0, 0]], dtype=object)"
      ]
     },
     "execution_count": 25,
     "metadata": {},
     "output_type": "execute_result"
    }
   ],
   "source": [
    "from sklearn.pipeline import FeatureUnion\n",
    "cdr_pipeline = FeatureUnion(transformer_list =[\n",
    "    (\"duration_pipeline\", duration_pipeline),\n",
    "    (\"cat_pipeline\", cat_pipeline),\n",
    "    (\"multilable_cat_pipeline\",multilable_cat_pipeline)\n",
    "])\n",
    "\n",
    "df_data_prepared = cdr_pipeline.transform(X_train_data_set)\n",
    "df_data_prepared = df_data_prepared[:,3:]\n",
    "df_data_prepared"
   ]
  },
  {
   "cell_type": "code",
   "execution_count": 26,
   "metadata": {},
   "outputs": [
    {
     "data": {
      "text/html": [
       "<div>\n",
       "<style scoped>\n",
       "    .dataframe tbody tr th:only-of-type {\n",
       "        vertical-align: middle;\n",
       "    }\n",
       "\n",
       "    .dataframe tbody tr th {\n",
       "        vertical-align: top;\n",
       "    }\n",
       "\n",
       "    .dataframe thead th {\n",
       "        text-align: right;\n",
       "    }\n",
       "</style>\n",
       "<table border=\"1\" class=\"dataframe\">\n",
       "  <thead>\n",
       "    <tr style=\"text-align: right;\">\n",
       "      <th></th>\n",
       "      <th>0</th>\n",
       "      <th>1</th>\n",
       "      <th>2</th>\n",
       "      <th>3</th>\n",
       "      <th>4</th>\n",
       "      <th>5</th>\n",
       "      <th>6</th>\n",
       "      <th>7</th>\n",
       "      <th>8</th>\n",
       "      <th>9</th>\n",
       "      <th>10</th>\n",
       "      <th>11</th>\n",
       "      <th>12</th>\n",
       "      <th>13</th>\n",
       "      <th>14</th>\n",
       "    </tr>\n",
       "  </thead>\n",
       "  <tbody>\n",
       "    <tr>\n",
       "      <th>0</th>\n",
       "      <td>0</td>\n",
       "      <td>36</td>\n",
       "      <td>0</td>\n",
       "      <td>0</td>\n",
       "      <td>1</td>\n",
       "      <td>0</td>\n",
       "      <td>0</td>\n",
       "      <td>0</td>\n",
       "      <td>0</td>\n",
       "      <td>0</td>\n",
       "      <td>0</td>\n",
       "      <td>0</td>\n",
       "      <td>1</td>\n",
       "      <td>0</td>\n",
       "      <td>0</td>\n",
       "    </tr>\n",
       "    <tr>\n",
       "      <th>1</th>\n",
       "      <td>0</td>\n",
       "      <td>3</td>\n",
       "      <td>0</td>\n",
       "      <td>0</td>\n",
       "      <td>0</td>\n",
       "      <td>0</td>\n",
       "      <td>1</td>\n",
       "      <td>0</td>\n",
       "      <td>0</td>\n",
       "      <td>0</td>\n",
       "      <td>0</td>\n",
       "      <td>0</td>\n",
       "      <td>0</td>\n",
       "      <td>0</td>\n",
       "      <td>1</td>\n",
       "    </tr>\n",
       "    <tr>\n",
       "      <th>2</th>\n",
       "      <td>0</td>\n",
       "      <td>18</td>\n",
       "      <td>0</td>\n",
       "      <td>0</td>\n",
       "      <td>1</td>\n",
       "      <td>0</td>\n",
       "      <td>0</td>\n",
       "      <td>0</td>\n",
       "      <td>0</td>\n",
       "      <td>0</td>\n",
       "      <td>0</td>\n",
       "      <td>1</td>\n",
       "      <td>0</td>\n",
       "      <td>0</td>\n",
       "      <td>0</td>\n",
       "    </tr>\n",
       "    <tr>\n",
       "      <th>3</th>\n",
       "      <td>0</td>\n",
       "      <td>15</td>\n",
       "      <td>0</td>\n",
       "      <td>0</td>\n",
       "      <td>0</td>\n",
       "      <td>1</td>\n",
       "      <td>0</td>\n",
       "      <td>0</td>\n",
       "      <td>0</td>\n",
       "      <td>0</td>\n",
       "      <td>0</td>\n",
       "      <td>0</td>\n",
       "      <td>0</td>\n",
       "      <td>1</td>\n",
       "      <td>0</td>\n",
       "    </tr>\n",
       "    <tr>\n",
       "      <th>4</th>\n",
       "      <td>0</td>\n",
       "      <td>33</td>\n",
       "      <td>0</td>\n",
       "      <td>0</td>\n",
       "      <td>1</td>\n",
       "      <td>0</td>\n",
       "      <td>0</td>\n",
       "      <td>0</td>\n",
       "      <td>0</td>\n",
       "      <td>0</td>\n",
       "      <td>0</td>\n",
       "      <td>0</td>\n",
       "      <td>1</td>\n",
       "      <td>0</td>\n",
       "      <td>0</td>\n",
       "    </tr>\n",
       "    <tr>\n",
       "      <th>...</th>\n",
       "      <td>...</td>\n",
       "      <td>...</td>\n",
       "      <td>...</td>\n",
       "      <td>...</td>\n",
       "      <td>...</td>\n",
       "      <td>...</td>\n",
       "      <td>...</td>\n",
       "      <td>...</td>\n",
       "      <td>...</td>\n",
       "      <td>...</td>\n",
       "      <td>...</td>\n",
       "      <td>...</td>\n",
       "      <td>...</td>\n",
       "      <td>...</td>\n",
       "      <td>...</td>\n",
       "    </tr>\n",
       "    <tr>\n",
       "      <th>995</th>\n",
       "      <td>0</td>\n",
       "      <td>28</td>\n",
       "      <td>0</td>\n",
       "      <td>0</td>\n",
       "      <td>1</td>\n",
       "      <td>0</td>\n",
       "      <td>0</td>\n",
       "      <td>0</td>\n",
       "      <td>0</td>\n",
       "      <td>0</td>\n",
       "      <td>0</td>\n",
       "      <td>0</td>\n",
       "      <td>0</td>\n",
       "      <td>1</td>\n",
       "      <td>0</td>\n",
       "    </tr>\n",
       "    <tr>\n",
       "      <th>996</th>\n",
       "      <td>0</td>\n",
       "      <td>16</td>\n",
       "      <td>0</td>\n",
       "      <td>0</td>\n",
       "      <td>1</td>\n",
       "      <td>0</td>\n",
       "      <td>0</td>\n",
       "      <td>0</td>\n",
       "      <td>0</td>\n",
       "      <td>1</td>\n",
       "      <td>0</td>\n",
       "      <td>0</td>\n",
       "      <td>0</td>\n",
       "      <td>0</td>\n",
       "      <td>0</td>\n",
       "    </tr>\n",
       "    <tr>\n",
       "      <th>997</th>\n",
       "      <td>0</td>\n",
       "      <td>5</td>\n",
       "      <td>0</td>\n",
       "      <td>0</td>\n",
       "      <td>0</td>\n",
       "      <td>1</td>\n",
       "      <td>0</td>\n",
       "      <td>0</td>\n",
       "      <td>0</td>\n",
       "      <td>0</td>\n",
       "      <td>0</td>\n",
       "      <td>0</td>\n",
       "      <td>0</td>\n",
       "      <td>0</td>\n",
       "      <td>1</td>\n",
       "    </tr>\n",
       "    <tr>\n",
       "      <th>998</th>\n",
       "      <td>0</td>\n",
       "      <td>37</td>\n",
       "      <td>0</td>\n",
       "      <td>1</td>\n",
       "      <td>0</td>\n",
       "      <td>0</td>\n",
       "      <td>0</td>\n",
       "      <td>0</td>\n",
       "      <td>0</td>\n",
       "      <td>0</td>\n",
       "      <td>0</td>\n",
       "      <td>0</td>\n",
       "      <td>1</td>\n",
       "      <td>0</td>\n",
       "      <td>0</td>\n",
       "    </tr>\n",
       "    <tr>\n",
       "      <th>999</th>\n",
       "      <td>0</td>\n",
       "      <td>30</td>\n",
       "      <td>0</td>\n",
       "      <td>0</td>\n",
       "      <td>1</td>\n",
       "      <td>0</td>\n",
       "      <td>0</td>\n",
       "      <td>0</td>\n",
       "      <td>0</td>\n",
       "      <td>0</td>\n",
       "      <td>1</td>\n",
       "      <td>0</td>\n",
       "      <td>0</td>\n",
       "      <td>0</td>\n",
       "      <td>0</td>\n",
       "    </tr>\n",
       "  </tbody>\n",
       "</table>\n",
       "<p>1000 rows × 15 columns</p>\n",
       "</div>"
      ],
      "text/plain": [
       "    0   1  2  3  4  5  6  7  8  9  10 11 12 13 14\n",
       "0    0  36  0  0  1  0  0  0  0  0  0  0  1  0  0\n",
       "1    0   3  0  0  0  0  1  0  0  0  0  0  0  0  1\n",
       "2    0  18  0  0  1  0  0  0  0  0  0  1  0  0  0\n",
       "3    0  15  0  0  0  1  0  0  0  0  0  0  0  1  0\n",
       "4    0  33  0  0  1  0  0  0  0  0  0  0  1  0  0\n",
       "..  ..  .. .. .. .. .. .. .. .. .. .. .. .. .. ..\n",
       "995  0  28  0  0  1  0  0  0  0  0  0  0  0  1  0\n",
       "996  0  16  0  0  1  0  0  0  0  1  0  0  0  0  0\n",
       "997  0   5  0  0  0  1  0  0  0  0  0  0  0  0  1\n",
       "998  0  37  0  1  0  0  0  0  0  0  0  0  1  0  0\n",
       "999  0  30  0  0  1  0  0  0  0  0  1  0  0  0  0\n",
       "\n",
       "[1000 rows x 15 columns]"
      ]
     },
     "execution_count": 26,
     "metadata": {},
     "output_type": "execute_result"
    }
   ],
   "source": [
    "v= pd.DataFrame(df_data_prepared)\n",
    "v.head(1000)"
   ]
  },
  {
   "cell_type": "code",
   "execution_count": 27,
   "metadata": {},
   "outputs": [
    {
     "ename": "ValueError",
     "evalue": "The number of classes has to be greater than one; got 1 class",
     "output_type": "error",
     "traceback": [
      "\u001b[1;31m---------------------------------------------------------------------------\u001b[0m",
      "\u001b[1;31mValueError\u001b[0m                                Traceback (most recent call last)",
      "\u001b[1;32m<ipython-input-27-6c3c587b655b>\u001b[0m in \u001b[0;36m<module>\u001b[1;34m\u001b[0m\n\u001b[0;32m      1\u001b[0m \u001b[1;32mfrom\u001b[0m \u001b[0msklearn\u001b[0m\u001b[1;33m.\u001b[0m\u001b[0mlinear_model\u001b[0m \u001b[1;32mimport\u001b[0m \u001b[0mSGDClassifier\u001b[0m\u001b[1;33m\u001b[0m\u001b[1;33m\u001b[0m\u001b[0m\n\u001b[0;32m      2\u001b[0m \u001b[0msgl_clf\u001b[0m \u001b[1;33m=\u001b[0m \u001b[0mSGDClassifier\u001b[0m\u001b[1;33m(\u001b[0m\u001b[0mrandom_state\u001b[0m\u001b[1;33m=\u001b[0m\u001b[1;36m42\u001b[0m\u001b[1;33m)\u001b[0m\u001b[1;33m\u001b[0m\u001b[1;33m\u001b[0m\u001b[0m\n\u001b[1;32m----> 3\u001b[1;33m \u001b[0msgl_clf\u001b[0m\u001b[1;33m.\u001b[0m\u001b[0mfit\u001b[0m\u001b[1;33m(\u001b[0m\u001b[0mdf_data_prepared\u001b[0m\u001b[1;33m,\u001b[0m \u001b[0my_train_data_set\u001b[0m\u001b[1;33m)\u001b[0m\u001b[1;33m\u001b[0m\u001b[1;33m\u001b[0m\u001b[0m\n\u001b[0m",
      "\u001b[1;32mC:\\ProgramData\\Anaconda3\\lib\\site-packages\\sklearn\\linear_model\\_stochastic_gradient.py\u001b[0m in \u001b[0;36mfit\u001b[1;34m(self, X, y, coef_init, intercept_init, sample_weight)\u001b[0m\n\u001b[0;32m    723\u001b[0m             \u001b[0mReturns\u001b[0m \u001b[0man\u001b[0m \u001b[0minstance\u001b[0m \u001b[0mof\u001b[0m \u001b[0mself\u001b[0m\u001b[1;33m.\u001b[0m\u001b[1;33m\u001b[0m\u001b[1;33m\u001b[0m\u001b[0m\n\u001b[0;32m    724\u001b[0m         \"\"\"\n\u001b[1;32m--> 725\u001b[1;33m         return self._fit(X, y, alpha=self.alpha, C=1.0,\n\u001b[0m\u001b[0;32m    726\u001b[0m                          \u001b[0mloss\u001b[0m\u001b[1;33m=\u001b[0m\u001b[0mself\u001b[0m\u001b[1;33m.\u001b[0m\u001b[0mloss\u001b[0m\u001b[1;33m,\u001b[0m \u001b[0mlearning_rate\u001b[0m\u001b[1;33m=\u001b[0m\u001b[0mself\u001b[0m\u001b[1;33m.\u001b[0m\u001b[0mlearning_rate\u001b[0m\u001b[1;33m,\u001b[0m\u001b[1;33m\u001b[0m\u001b[1;33m\u001b[0m\u001b[0m\n\u001b[0;32m    727\u001b[0m                          \u001b[0mcoef_init\u001b[0m\u001b[1;33m=\u001b[0m\u001b[0mcoef_init\u001b[0m\u001b[1;33m,\u001b[0m \u001b[0mintercept_init\u001b[0m\u001b[1;33m=\u001b[0m\u001b[0mintercept_init\u001b[0m\u001b[1;33m,\u001b[0m\u001b[1;33m\u001b[0m\u001b[1;33m\u001b[0m\u001b[0m\n",
      "\u001b[1;32mC:\\ProgramData\\Anaconda3\\lib\\site-packages\\sklearn\\linear_model\\_stochastic_gradient.py\u001b[0m in \u001b[0;36m_fit\u001b[1;34m(self, X, y, alpha, C, loss, learning_rate, coef_init, intercept_init, sample_weight)\u001b[0m\n\u001b[0;32m    563\u001b[0m         \u001b[0mself\u001b[0m\u001b[1;33m.\u001b[0m\u001b[0mt_\u001b[0m \u001b[1;33m=\u001b[0m \u001b[1;36m1.0\u001b[0m\u001b[1;33m\u001b[0m\u001b[1;33m\u001b[0m\u001b[0m\n\u001b[0;32m    564\u001b[0m \u001b[1;33m\u001b[0m\u001b[0m\n\u001b[1;32m--> 565\u001b[1;33m         self._partial_fit(X, y, alpha, C, loss, learning_rate, self.max_iter,\n\u001b[0m\u001b[0;32m    566\u001b[0m                           classes, sample_weight, coef_init, intercept_init)\n\u001b[0;32m    567\u001b[0m \u001b[1;33m\u001b[0m\u001b[0m\n",
      "\u001b[1;32mC:\\ProgramData\\Anaconda3\\lib\\site-packages\\sklearn\\linear_model\\_stochastic_gradient.py\u001b[0m in \u001b[0;36m_partial_fit\u001b[1;34m(self, X, y, alpha, C, loss, learning_rate, max_iter, classes, sample_weight, coef_init, intercept_init)\u001b[0m\n\u001b[0;32m    525\u001b[0m                              max_iter=max_iter)\n\u001b[0;32m    526\u001b[0m         \u001b[1;32melse\u001b[0m\u001b[1;33m:\u001b[0m\u001b[1;33m\u001b[0m\u001b[1;33m\u001b[0m\u001b[0m\n\u001b[1;32m--> 527\u001b[1;33m             raise ValueError(\n\u001b[0m\u001b[0;32m    528\u001b[0m                 \u001b[1;34m\"The number of classes has to be greater than one;\"\u001b[0m\u001b[1;33m\u001b[0m\u001b[1;33m\u001b[0m\u001b[0m\n\u001b[0;32m    529\u001b[0m                 \" got %d class\" % n_classes)\n",
      "\u001b[1;31mValueError\u001b[0m: The number of classes has to be greater than one; got 1 class"
     ]
    }
   ],
   "source": [
    "from sklearn.linear_model import SGDClassifier\n",
    "sgl_clf = SGDClassifier(random_state=42)\n",
    "sgl_clf.fit(df_data_prepared, y_train_data_set)"
   ]
  },
  {
   "cell_type": "code",
   "execution_count": 28,
   "metadata": {},
   "outputs": [
    {
     "data": {
      "text/plain": [
       "array([0.99695934, 0.99709388, 0.9971477 , 0.99718806, 0.99720152,\n",
       "       0.99693243, 0.99691898, 0.99725533, 0.99724188, 0.99613863])"
      ]
     },
     "execution_count": 28,
     "metadata": {},
     "output_type": "execute_result"
    }
   ],
   "source": [
    "from sklearn.model_selection import cross_val_score\n",
    "cross_val_score(sgl_clf, df_data_prepared, y_train_data_set, cv=10, scoring='accuracy')"
   ]
  },
  {
   "cell_type": "code",
   "execution_count": 28,
   "metadata": {},
   "outputs": [
    {
     "data": {
      "text/plain": [
       "array([[0, 1, 0, ..., 0, 0, 1],\n",
       "       [0, 7, 0, ..., 1, 0, 0],\n",
       "       [0, 4, 0, ..., 0, 0, 0],\n",
       "       ...,\n",
       "       [0, 14, 0, ..., 0, 0, 0],\n",
       "       [0, 43, 0, ..., 0, 0, 0],\n",
       "       [0, 36, 0, ..., 0, 0, 0]], dtype=object)"
      ]
     },
     "execution_count": 28,
     "metadata": {},
     "output_type": "execute_result"
    }
   ],
   "source": [
    "df_test_data_prepared = cdr_pipeline.transform(X_test_data_set)\n",
    "df_test_data_prepared = df_test_data_prepared[:,3:]\n",
    "df_test_data_prepared"
   ]
  },
  {
   "cell_type": "code",
   "execution_count": 29,
   "metadata": {},
   "outputs": [
    {
     "data": {
      "text/plain": [
       "9112     0\n",
       "1597     0\n",
       "21092    0\n",
       "8391     0\n",
       "38471    0\n",
       "        ..\n",
       "16985    0\n",
       "39142    0\n",
       "39530    0\n",
       "38621    0\n",
       "12245    0\n",
       "Name: fraudulent, Length: 16500, dtype: int32"
      ]
     },
     "execution_count": 29,
     "metadata": {},
     "output_type": "execute_result"
    }
   ],
   "source": [
    "y_test_data_set"
   ]
  },
  {
   "cell_type": "code",
   "execution_count": 30,
   "metadata": {},
   "outputs": [
    {
     "ename": "IndexError",
     "evalue": "tuple index out of range",
     "output_type": "error",
     "traceback": [
      "\u001b[1;31m---------------------------------------------------------------------------\u001b[0m",
      "\u001b[1;31mIndexError\u001b[0m                                Traceback (most recent call last)",
      "\u001b[1;32m<ipython-input-30-29233afae245>\u001b[0m in \u001b[0;36m<module>\u001b[1;34m\u001b[0m\n\u001b[1;32m----> 1\u001b[1;33m \u001b[0mtest_predict\u001b[0m \u001b[1;33m=\u001b[0m \u001b[0msgl_clf\u001b[0m\u001b[1;33m.\u001b[0m\u001b[0mpredict\u001b[0m\u001b[1;33m(\u001b[0m\u001b[0mdf_test_data_prepared\u001b[0m\u001b[1;33m)\u001b[0m\u001b[1;33m\u001b[0m\u001b[1;33m\u001b[0m\u001b[0m\n\u001b[0m",
      "\u001b[1;32mC:\\ProgramData\\Anaconda3\\lib\\site-packages\\sklearn\\linear_model\\_base.py\u001b[0m in \u001b[0;36mpredict\u001b[1;34m(self, X)\u001b[0m\n\u001b[0;32m    305\u001b[0m             \u001b[0mPredicted\u001b[0m \u001b[1;32mclass\u001b[0m \u001b[0mlabel\u001b[0m \u001b[0mper\u001b[0m \u001b[0msample\u001b[0m\u001b[1;33m.\u001b[0m\u001b[1;33m\u001b[0m\u001b[1;33m\u001b[0m\u001b[0m\n\u001b[0;32m    306\u001b[0m         \"\"\"\n\u001b[1;32m--> 307\u001b[1;33m         \u001b[0mscores\u001b[0m \u001b[1;33m=\u001b[0m \u001b[0mself\u001b[0m\u001b[1;33m.\u001b[0m\u001b[0mdecision_function\u001b[0m\u001b[1;33m(\u001b[0m\u001b[0mX\u001b[0m\u001b[1;33m)\u001b[0m\u001b[1;33m\u001b[0m\u001b[1;33m\u001b[0m\u001b[0m\n\u001b[0m\u001b[0;32m    308\u001b[0m         \u001b[1;32mif\u001b[0m \u001b[0mlen\u001b[0m\u001b[1;33m(\u001b[0m\u001b[0mscores\u001b[0m\u001b[1;33m.\u001b[0m\u001b[0mshape\u001b[0m\u001b[1;33m)\u001b[0m \u001b[1;33m==\u001b[0m \u001b[1;36m1\u001b[0m\u001b[1;33m:\u001b[0m\u001b[1;33m\u001b[0m\u001b[1;33m\u001b[0m\u001b[0m\n\u001b[0;32m    309\u001b[0m             \u001b[0mindices\u001b[0m \u001b[1;33m=\u001b[0m \u001b[1;33m(\u001b[0m\u001b[0mscores\u001b[0m \u001b[1;33m>\u001b[0m \u001b[1;36m0\u001b[0m\u001b[1;33m)\u001b[0m\u001b[1;33m.\u001b[0m\u001b[0mastype\u001b[0m\u001b[1;33m(\u001b[0m\u001b[0mnp\u001b[0m\u001b[1;33m.\u001b[0m\u001b[0mint\u001b[0m\u001b[1;33m)\u001b[0m\u001b[1;33m\u001b[0m\u001b[1;33m\u001b[0m\u001b[0m\n",
      "\u001b[1;32mC:\\ProgramData\\Anaconda3\\lib\\site-packages\\sklearn\\linear_model\\_base.py\u001b[0m in \u001b[0;36mdecision_function\u001b[1;34m(self, X)\u001b[0m\n\u001b[0;32m    282\u001b[0m         \u001b[0mX\u001b[0m \u001b[1;33m=\u001b[0m \u001b[0mcheck_array\u001b[0m\u001b[1;33m(\u001b[0m\u001b[0mX\u001b[0m\u001b[1;33m,\u001b[0m \u001b[0maccept_sparse\u001b[0m\u001b[1;33m=\u001b[0m\u001b[1;34m'csr'\u001b[0m\u001b[1;33m)\u001b[0m\u001b[1;33m\u001b[0m\u001b[1;33m\u001b[0m\u001b[0m\n\u001b[0;32m    283\u001b[0m \u001b[1;33m\u001b[0m\u001b[0m\n\u001b[1;32m--> 284\u001b[1;33m         \u001b[0mn_features\u001b[0m \u001b[1;33m=\u001b[0m \u001b[0mself\u001b[0m\u001b[1;33m.\u001b[0m\u001b[0mcoef_\u001b[0m\u001b[1;33m.\u001b[0m\u001b[0mshape\u001b[0m\u001b[1;33m[\u001b[0m\u001b[1;36m1\u001b[0m\u001b[1;33m]\u001b[0m\u001b[1;33m\u001b[0m\u001b[1;33m\u001b[0m\u001b[0m\n\u001b[0m\u001b[0;32m    285\u001b[0m         \u001b[1;32mif\u001b[0m \u001b[0mX\u001b[0m\u001b[1;33m.\u001b[0m\u001b[0mshape\u001b[0m\u001b[1;33m[\u001b[0m\u001b[1;36m1\u001b[0m\u001b[1;33m]\u001b[0m \u001b[1;33m!=\u001b[0m \u001b[0mn_features\u001b[0m\u001b[1;33m:\u001b[0m\u001b[1;33m\u001b[0m\u001b[1;33m\u001b[0m\u001b[0m\n\u001b[0;32m    286\u001b[0m             raise ValueError(\"X has %d features per sample; expecting %d\"\n",
      "\u001b[1;31mIndexError\u001b[0m: tuple index out of range"
     ]
    }
   ],
   "source": [
    "test_predict = sgl_clf.predict(df_test_data_prepared)"
   ]
  },
  {
   "cell_type": "code",
   "execution_count": 32,
   "metadata": {},
   "outputs": [
    {
     "data": {
      "text/plain": [
       "array([0, 0, 0, ..., 0, 0, 0])"
      ]
     },
     "execution_count": 32,
     "metadata": {},
     "output_type": "execute_result"
    }
   ],
   "source": [
    "test_predict"
   ]
  },
  {
   "cell_type": "code",
   "execution_count": 33,
   "metadata": {},
   "outputs": [
    {
     "data": {
      "text/plain": [
       "0.9968859605992068"
      ]
     },
     "execution_count": 33,
     "metadata": {},
     "output_type": "execute_result"
    }
   ],
   "source": [
    "sgl_clf.score(df_test_data_prepared, y_test_data_set)"
   ]
  },
  {
   "cell_type": "code",
   "execution_count": 34,
   "metadata": {},
   "outputs": [],
   "source": [
    "from sklearn.metrics import f1_score\n",
    "score = f1_score(test_predict, y_test_data_set)"
   ]
  },
  {
   "cell_type": "code",
   "execution_count": 35,
   "metadata": {},
   "outputs": [
    {
     "data": {
      "text/plain": [
       "0.9181622397702799"
      ]
     },
     "execution_count": 35,
     "metadata": {},
     "output_type": "execute_result"
    }
   ],
   "source": [
    "score"
   ]
  },
  {
   "cell_type": "code",
   "execution_count": 36,
   "metadata": {},
   "outputs": [
    {
     "name": "stdout",
     "output_type": "stream",
     "text": [
      "0.9582875110813729\n",
      "0.9865057219067437\n",
      "0.9332789135651142\n",
      "\n",
      "-----------------------------------------------\n",
      "\n",
      "0.9181622397702799\n",
      "0.9757400061031432\n",
      "0.8670010845986985\n",
      "[[358549    159]\n",
      " [   981   6395]]\n",
      "              precision    recall  f1-score   support\n",
      "\n",
      "           0       1.00      1.00      1.00    358708\n",
      "           1       0.98      0.87      0.92      7376\n",
      "\n",
      "    accuracy                           1.00    366084\n",
      "   macro avg       0.99      0.93      0.96    366084\n",
      "weighted avg       1.00      1.00      1.00    366084\n",
      "\n"
     ]
    }
   ],
   "source": [
    "from sklearn.metrics import accuracy_score, f1_score, precision_score, recall_score, classification_report, confusion_matrix\n",
    "print(f1_score(y_test_data_set, test_predict, average=\"macro\"))\n",
    "print(precision_score(y_test_data_set, test_predict, average=\"macro\"))\n",
    "print(recall_score(y_test_data_set, test_predict, average=\"macro\"))  \n",
    "print(\"\\n-----------------------------------------------\\n\")\n",
    "print(f1_score(y_test_data_set, test_predict))\n",
    "print(precision_score(y_test_data_set, test_predict))\n",
    "print(recall_score(y_test_data_set, test_predict)) \n",
    "print(confusion_matrix(y_test_data_set, test_predict))\n",
    "print(classification_report(y_test_data_set, test_predict))"
   ]
  },
  {
   "cell_type": "code",
   "execution_count": 37,
   "metadata": {},
   "outputs": [
    {
     "data": {
      "text/plain": [
       "0.964550662693167"
      ]
     },
     "execution_count": 37,
     "metadata": {},
     "output_type": "execute_result"
    }
   ],
   "source": [
    "from sklearn.metrics import roc_auc_score\n",
    "roc_auc_score(y_test_data_set, sgl_clf.decision_function(df_test_data_prepared), average=\"macro\")"
   ]
  },
  {
   "cell_type": "markdown",
   "metadata": {},
   "source": [
    "Implementation of RandomforestRegressor Model "
   ]
  },
  {
   "cell_type": "code",
   "execution_count": 31,
   "metadata": {},
   "outputs": [
    {
     "name": "stdout",
     "output_type": "stream",
     "text": [
      "1.0\n"
     ]
    }
   ],
   "source": [
    "\n",
    "from sklearn.ensemble import RandomForestRegressor\n",
    "RFR =RandomForestRegressor()\n",
    "\n",
    "RFR.fit(df_data_prepared,y_train_data_set)\n",
    "\n",
    "\n",
    "print(RFR.score(df_test_data_prepared,y_test_data_set))"
   ]
  },
  {
   "cell_type": "code",
   "execution_count": 32,
   "metadata": {},
   "outputs": [],
   "source": [
    "grid_param = {\n",
    "    \"n_estimators\" : [90,100,115,130],\n",
    "    'criterion': ['gini', 'entropy'],\n",
    "    'max_depth' : range(2,20,1),\n",
    "    'min_samples_leaf' : range(1,10,1),\n",
    "    'min_samples_split': range(2,10,1),\n",
    "    'max_features' : ['auto','log2']\n",
    "}"
   ]
  },
  {
   "cell_type": "code",
   "execution_count": 34,
   "metadata": {},
   "outputs": [],
   "source": [
    "from sklearn.model_selection import GridSearchCV\n",
    "grid_search = GridSearchCV(estimator=RFR,param_grid=grid_param,cv=5,n_jobs =3,verbose = 3)"
   ]
  },
  {
   "cell_type": "code",
   "execution_count": 35,
   "metadata": {},
   "outputs": [
    {
     "name": "stdout",
     "output_type": "stream",
     "text": [
      "Fitting 5 folds for each of 20736 candidates, totalling 103680 fits\n"
     ]
    },
    {
     "name": "stderr",
     "output_type": "stream",
     "text": [
      "[Parallel(n_jobs=3)]: Using backend LokyBackend with 3 concurrent workers.\n",
      "[Parallel(n_jobs=3)]: Done  26 tasks      | elapsed:    2.8s\n",
      "[Parallel(n_jobs=3)]: Done 130 tasks      | elapsed:    6.4s\n",
      "[Parallel(n_jobs=3)]: Done 450 tasks      | elapsed:   15.7s\n",
      "[Parallel(n_jobs=3)]: Done 898 tasks      | elapsed:   28.8s\n",
      "[Parallel(n_jobs=3)]: Done 1474 tasks      | elapsed:   45.5s\n",
      "[Parallel(n_jobs=3)]: Done 2178 tasks      | elapsed:  1.1min\n",
      "[Parallel(n_jobs=3)]: Done 3010 tasks      | elapsed:  1.5min\n",
      "[Parallel(n_jobs=3)]: Done 3970 tasks      | elapsed:  2.0min\n",
      "[Parallel(n_jobs=3)]: Done 5058 tasks      | elapsed:  2.5min\n",
      "[Parallel(n_jobs=3)]: Done 6274 tasks      | elapsed:  3.1min\n",
      "[Parallel(n_jobs=3)]: Done 7618 tasks      | elapsed:  3.8min\n",
      "[Parallel(n_jobs=3)]: Done 9090 tasks      | elapsed:  4.5min\n",
      "[Parallel(n_jobs=3)]: Done 10690 tasks      | elapsed:  5.2min\n",
      "[Parallel(n_jobs=3)]: Done 12418 tasks      | elapsed:  6.1min\n",
      "[Parallel(n_jobs=3)]: Done 14274 tasks      | elapsed:  7.0min\n",
      "[Parallel(n_jobs=3)]: Done 16258 tasks      | elapsed:  7.9min\n",
      "[Parallel(n_jobs=3)]: Done 18370 tasks      | elapsed:  9.0min\n",
      "[Parallel(n_jobs=3)]: Done 20610 tasks      | elapsed: 10.1min\n",
      "[Parallel(n_jobs=3)]: Done 22978 tasks      | elapsed: 11.2min\n",
      "[Parallel(n_jobs=3)]: Done 25474 tasks      | elapsed: 12.4min\n",
      "[Parallel(n_jobs=3)]: Done 28098 tasks      | elapsed: 13.7min\n",
      "[Parallel(n_jobs=3)]: Done 30850 tasks      | elapsed: 15.0min\n",
      "[Parallel(n_jobs=3)]: Done 33730 tasks      | elapsed: 16.4min\n",
      "[Parallel(n_jobs=3)]: Done 36738 tasks      | elapsed: 17.9min\n",
      "[Parallel(n_jobs=3)]: Done 39874 tasks      | elapsed: 19.5min\n",
      "[Parallel(n_jobs=3)]: Done 43138 tasks      | elapsed: 21.1min\n",
      "[Parallel(n_jobs=3)]: Done 46530 tasks      | elapsed: 22.7min\n",
      "[Parallel(n_jobs=3)]: Done 50050 tasks      | elapsed: 24.4min\n",
      "[Parallel(n_jobs=3)]: Done 53698 tasks      | elapsed: 26.2min\n",
      "[Parallel(n_jobs=3)]: Done 57474 tasks      | elapsed: 28.0min\n",
      "[Parallel(n_jobs=3)]: Done 61378 tasks      | elapsed: 29.9min\n",
      "[Parallel(n_jobs=3)]: Done 65410 tasks      | elapsed: 31.9min\n",
      "[Parallel(n_jobs=3)]: Done 69570 tasks      | elapsed: 33.9min\n",
      "[Parallel(n_jobs=3)]: Done 73858 tasks      | elapsed: 35.9min\n",
      "[Parallel(n_jobs=3)]: Done 78274 tasks      | elapsed: 38.1min\n",
      "[Parallel(n_jobs=3)]: Done 82818 tasks      | elapsed: 40.3min\n",
      "[Parallel(n_jobs=3)]: Done 87490 tasks      | elapsed: 42.5min\n",
      "[Parallel(n_jobs=3)]: Done 92290 tasks      | elapsed: 44.8min\n",
      "[Parallel(n_jobs=3)]: Done 97218 tasks      | elapsed: 47.2min\n",
      "[Parallel(n_jobs=3)]: Done 102274 tasks      | elapsed: 49.7min\n",
      "[Parallel(n_jobs=3)]: Done 103680 out of 103680 | elapsed: 50.4min finished\n"
     ]
    },
    {
     "ename": "KeyError",
     "evalue": "'gini'",
     "output_type": "error",
     "traceback": [
      "\u001b[1;31m---------------------------------------------------------------------------\u001b[0m",
      "\u001b[1;31mKeyError\u001b[0m                                  Traceback (most recent call last)",
      "\u001b[1;32m<ipython-input-35-8e94532fcc84>\u001b[0m in \u001b[0;36m<module>\u001b[1;34m\u001b[0m\n\u001b[1;32m----> 1\u001b[1;33m \u001b[0mgrid_search\u001b[0m\u001b[1;33m.\u001b[0m\u001b[0mfit\u001b[0m\u001b[1;33m(\u001b[0m\u001b[0mdf_data_prepared\u001b[0m\u001b[1;33m,\u001b[0m\u001b[0my_train_data_set\u001b[0m\u001b[1;33m)\u001b[0m\u001b[1;33m\u001b[0m\u001b[1;33m\u001b[0m\u001b[0m\n\u001b[0m",
      "\u001b[1;32mC:\\ProgramData\\Anaconda3\\lib\\site-packages\\sklearn\\utils\\validation.py\u001b[0m in \u001b[0;36minner_f\u001b[1;34m(*args, **kwargs)\u001b[0m\n\u001b[0;32m     70\u001b[0m                           FutureWarning)\n\u001b[0;32m     71\u001b[0m         \u001b[0mkwargs\u001b[0m\u001b[1;33m.\u001b[0m\u001b[0mupdate\u001b[0m\u001b[1;33m(\u001b[0m\u001b[1;33m{\u001b[0m\u001b[0mk\u001b[0m\u001b[1;33m:\u001b[0m \u001b[0marg\u001b[0m \u001b[1;32mfor\u001b[0m \u001b[0mk\u001b[0m\u001b[1;33m,\u001b[0m \u001b[0marg\u001b[0m \u001b[1;32min\u001b[0m \u001b[0mzip\u001b[0m\u001b[1;33m(\u001b[0m\u001b[0msig\u001b[0m\u001b[1;33m.\u001b[0m\u001b[0mparameters\u001b[0m\u001b[1;33m,\u001b[0m \u001b[0margs\u001b[0m\u001b[1;33m)\u001b[0m\u001b[1;33m}\u001b[0m\u001b[1;33m)\u001b[0m\u001b[1;33m\u001b[0m\u001b[1;33m\u001b[0m\u001b[0m\n\u001b[1;32m---> 72\u001b[1;33m         \u001b[1;32mreturn\u001b[0m \u001b[0mf\u001b[0m\u001b[1;33m(\u001b[0m\u001b[1;33m**\u001b[0m\u001b[0mkwargs\u001b[0m\u001b[1;33m)\u001b[0m\u001b[1;33m\u001b[0m\u001b[1;33m\u001b[0m\u001b[0m\n\u001b[0m\u001b[0;32m     73\u001b[0m     \u001b[1;32mreturn\u001b[0m \u001b[0minner_f\u001b[0m\u001b[1;33m\u001b[0m\u001b[1;33m\u001b[0m\u001b[0m\n\u001b[0;32m     74\u001b[0m \u001b[1;33m\u001b[0m\u001b[0m\n",
      "\u001b[1;32mC:\\ProgramData\\Anaconda3\\lib\\site-packages\\sklearn\\model_selection\\_search.py\u001b[0m in \u001b[0;36mfit\u001b[1;34m(self, X, y, groups, **fit_params)\u001b[0m\n\u001b[0;32m    763\u001b[0m             \u001b[0mrefit_start_time\u001b[0m \u001b[1;33m=\u001b[0m \u001b[0mtime\u001b[0m\u001b[1;33m.\u001b[0m\u001b[0mtime\u001b[0m\u001b[1;33m(\u001b[0m\u001b[1;33m)\u001b[0m\u001b[1;33m\u001b[0m\u001b[1;33m\u001b[0m\u001b[0m\n\u001b[0;32m    764\u001b[0m             \u001b[1;32mif\u001b[0m \u001b[0my\u001b[0m \u001b[1;32mis\u001b[0m \u001b[1;32mnot\u001b[0m \u001b[1;32mNone\u001b[0m\u001b[1;33m:\u001b[0m\u001b[1;33m\u001b[0m\u001b[1;33m\u001b[0m\u001b[0m\n\u001b[1;32m--> 765\u001b[1;33m                 \u001b[0mself\u001b[0m\u001b[1;33m.\u001b[0m\u001b[0mbest_estimator_\u001b[0m\u001b[1;33m.\u001b[0m\u001b[0mfit\u001b[0m\u001b[1;33m(\u001b[0m\u001b[0mX\u001b[0m\u001b[1;33m,\u001b[0m \u001b[0my\u001b[0m\u001b[1;33m,\u001b[0m \u001b[1;33m**\u001b[0m\u001b[0mfit_params\u001b[0m\u001b[1;33m)\u001b[0m\u001b[1;33m\u001b[0m\u001b[1;33m\u001b[0m\u001b[0m\n\u001b[0m\u001b[0;32m    766\u001b[0m             \u001b[1;32melse\u001b[0m\u001b[1;33m:\u001b[0m\u001b[1;33m\u001b[0m\u001b[1;33m\u001b[0m\u001b[0m\n\u001b[0;32m    767\u001b[0m                 \u001b[0mself\u001b[0m\u001b[1;33m.\u001b[0m\u001b[0mbest_estimator_\u001b[0m\u001b[1;33m.\u001b[0m\u001b[0mfit\u001b[0m\u001b[1;33m(\u001b[0m\u001b[0mX\u001b[0m\u001b[1;33m,\u001b[0m \u001b[1;33m**\u001b[0m\u001b[0mfit_params\u001b[0m\u001b[1;33m)\u001b[0m\u001b[1;33m\u001b[0m\u001b[1;33m\u001b[0m\u001b[0m\n",
      "\u001b[1;32mC:\\ProgramData\\Anaconda3\\lib\\site-packages\\sklearn\\ensemble\\_forest.py\u001b[0m in \u001b[0;36mfit\u001b[1;34m(self, X, y, sample_weight)\u001b[0m\n\u001b[0;32m    384\u001b[0m             \u001b[1;31m# parallel_backend contexts set at a higher level,\u001b[0m\u001b[1;33m\u001b[0m\u001b[1;33m\u001b[0m\u001b[1;33m\u001b[0m\u001b[0m\n\u001b[0;32m    385\u001b[0m             \u001b[1;31m# since correctness does not rely on using threads.\u001b[0m\u001b[1;33m\u001b[0m\u001b[1;33m\u001b[0m\u001b[1;33m\u001b[0m\u001b[0m\n\u001b[1;32m--> 386\u001b[1;33m             trees = Parallel(n_jobs=self.n_jobs, verbose=self.verbose,\n\u001b[0m\u001b[0;32m    387\u001b[0m                              \u001b[1;33m**\u001b[0m\u001b[0m_joblib_parallel_args\u001b[0m\u001b[1;33m(\u001b[0m\u001b[0mprefer\u001b[0m\u001b[1;33m=\u001b[0m\u001b[1;34m'threads'\u001b[0m\u001b[1;33m)\u001b[0m\u001b[1;33m)\u001b[0m\u001b[1;33m(\u001b[0m\u001b[1;33m\u001b[0m\u001b[1;33m\u001b[0m\u001b[0m\n\u001b[0;32m    388\u001b[0m                 delayed(_parallel_build_trees)(\n",
      "\u001b[1;32mC:\\ProgramData\\Anaconda3\\lib\\site-packages\\joblib\\parallel.py\u001b[0m in \u001b[0;36m__call__\u001b[1;34m(self, iterable)\u001b[0m\n\u001b[0;32m   1046\u001b[0m             \u001b[1;31m# remaining jobs.\u001b[0m\u001b[1;33m\u001b[0m\u001b[1;33m\u001b[0m\u001b[1;33m\u001b[0m\u001b[0m\n\u001b[0;32m   1047\u001b[0m             \u001b[0mself\u001b[0m\u001b[1;33m.\u001b[0m\u001b[0m_iterating\u001b[0m \u001b[1;33m=\u001b[0m \u001b[1;32mFalse\u001b[0m\u001b[1;33m\u001b[0m\u001b[1;33m\u001b[0m\u001b[0m\n\u001b[1;32m-> 1048\u001b[1;33m             \u001b[1;32mif\u001b[0m \u001b[0mself\u001b[0m\u001b[1;33m.\u001b[0m\u001b[0mdispatch_one_batch\u001b[0m\u001b[1;33m(\u001b[0m\u001b[0miterator\u001b[0m\u001b[1;33m)\u001b[0m\u001b[1;33m:\u001b[0m\u001b[1;33m\u001b[0m\u001b[1;33m\u001b[0m\u001b[0m\n\u001b[0m\u001b[0;32m   1049\u001b[0m                 \u001b[0mself\u001b[0m\u001b[1;33m.\u001b[0m\u001b[0m_iterating\u001b[0m \u001b[1;33m=\u001b[0m \u001b[0mself\u001b[0m\u001b[1;33m.\u001b[0m\u001b[0m_original_iterator\u001b[0m \u001b[1;32mis\u001b[0m \u001b[1;32mnot\u001b[0m \u001b[1;32mNone\u001b[0m\u001b[1;33m\u001b[0m\u001b[1;33m\u001b[0m\u001b[0m\n\u001b[0;32m   1050\u001b[0m \u001b[1;33m\u001b[0m\u001b[0m\n",
      "\u001b[1;32mC:\\ProgramData\\Anaconda3\\lib\\site-packages\\joblib\\parallel.py\u001b[0m in \u001b[0;36mdispatch_one_batch\u001b[1;34m(self, iterator)\u001b[0m\n\u001b[0;32m    864\u001b[0m                 \u001b[1;32mreturn\u001b[0m \u001b[1;32mFalse\u001b[0m\u001b[1;33m\u001b[0m\u001b[1;33m\u001b[0m\u001b[0m\n\u001b[0;32m    865\u001b[0m             \u001b[1;32melse\u001b[0m\u001b[1;33m:\u001b[0m\u001b[1;33m\u001b[0m\u001b[1;33m\u001b[0m\u001b[0m\n\u001b[1;32m--> 866\u001b[1;33m                 \u001b[0mself\u001b[0m\u001b[1;33m.\u001b[0m\u001b[0m_dispatch\u001b[0m\u001b[1;33m(\u001b[0m\u001b[0mtasks\u001b[0m\u001b[1;33m)\u001b[0m\u001b[1;33m\u001b[0m\u001b[1;33m\u001b[0m\u001b[0m\n\u001b[0m\u001b[0;32m    867\u001b[0m                 \u001b[1;32mreturn\u001b[0m \u001b[1;32mTrue\u001b[0m\u001b[1;33m\u001b[0m\u001b[1;33m\u001b[0m\u001b[0m\n\u001b[0;32m    868\u001b[0m \u001b[1;33m\u001b[0m\u001b[0m\n",
      "\u001b[1;32mC:\\ProgramData\\Anaconda3\\lib\\site-packages\\joblib\\parallel.py\u001b[0m in \u001b[0;36m_dispatch\u001b[1;34m(self, batch)\u001b[0m\n\u001b[0;32m    782\u001b[0m         \u001b[1;32mwith\u001b[0m \u001b[0mself\u001b[0m\u001b[1;33m.\u001b[0m\u001b[0m_lock\u001b[0m\u001b[1;33m:\u001b[0m\u001b[1;33m\u001b[0m\u001b[1;33m\u001b[0m\u001b[0m\n\u001b[0;32m    783\u001b[0m             \u001b[0mjob_idx\u001b[0m \u001b[1;33m=\u001b[0m \u001b[0mlen\u001b[0m\u001b[1;33m(\u001b[0m\u001b[0mself\u001b[0m\u001b[1;33m.\u001b[0m\u001b[0m_jobs\u001b[0m\u001b[1;33m)\u001b[0m\u001b[1;33m\u001b[0m\u001b[1;33m\u001b[0m\u001b[0m\n\u001b[1;32m--> 784\u001b[1;33m             \u001b[0mjob\u001b[0m \u001b[1;33m=\u001b[0m \u001b[0mself\u001b[0m\u001b[1;33m.\u001b[0m\u001b[0m_backend\u001b[0m\u001b[1;33m.\u001b[0m\u001b[0mapply_async\u001b[0m\u001b[1;33m(\u001b[0m\u001b[0mbatch\u001b[0m\u001b[1;33m,\u001b[0m \u001b[0mcallback\u001b[0m\u001b[1;33m=\u001b[0m\u001b[0mcb\u001b[0m\u001b[1;33m)\u001b[0m\u001b[1;33m\u001b[0m\u001b[1;33m\u001b[0m\u001b[0m\n\u001b[0m\u001b[0;32m    785\u001b[0m             \u001b[1;31m# A job can complete so quickly than its callback is\u001b[0m\u001b[1;33m\u001b[0m\u001b[1;33m\u001b[0m\u001b[1;33m\u001b[0m\u001b[0m\n\u001b[0;32m    786\u001b[0m             \u001b[1;31m# called before we get here, causing self._jobs to\u001b[0m\u001b[1;33m\u001b[0m\u001b[1;33m\u001b[0m\u001b[1;33m\u001b[0m\u001b[0m\n",
      "\u001b[1;32mC:\\ProgramData\\Anaconda3\\lib\\site-packages\\joblib\\_parallel_backends.py\u001b[0m in \u001b[0;36mapply_async\u001b[1;34m(self, func, callback)\u001b[0m\n\u001b[0;32m    206\u001b[0m     \u001b[1;32mdef\u001b[0m \u001b[0mapply_async\u001b[0m\u001b[1;33m(\u001b[0m\u001b[0mself\u001b[0m\u001b[1;33m,\u001b[0m \u001b[0mfunc\u001b[0m\u001b[1;33m,\u001b[0m \u001b[0mcallback\u001b[0m\u001b[1;33m=\u001b[0m\u001b[1;32mNone\u001b[0m\u001b[1;33m)\u001b[0m\u001b[1;33m:\u001b[0m\u001b[1;33m\u001b[0m\u001b[1;33m\u001b[0m\u001b[0m\n\u001b[0;32m    207\u001b[0m         \u001b[1;34m\"\"\"Schedule a func to be run\"\"\"\u001b[0m\u001b[1;33m\u001b[0m\u001b[1;33m\u001b[0m\u001b[0m\n\u001b[1;32m--> 208\u001b[1;33m         \u001b[0mresult\u001b[0m \u001b[1;33m=\u001b[0m \u001b[0mImmediateResult\u001b[0m\u001b[1;33m(\u001b[0m\u001b[0mfunc\u001b[0m\u001b[1;33m)\u001b[0m\u001b[1;33m\u001b[0m\u001b[1;33m\u001b[0m\u001b[0m\n\u001b[0m\u001b[0;32m    209\u001b[0m         \u001b[1;32mif\u001b[0m \u001b[0mcallback\u001b[0m\u001b[1;33m:\u001b[0m\u001b[1;33m\u001b[0m\u001b[1;33m\u001b[0m\u001b[0m\n\u001b[0;32m    210\u001b[0m             \u001b[0mcallback\u001b[0m\u001b[1;33m(\u001b[0m\u001b[0mresult\u001b[0m\u001b[1;33m)\u001b[0m\u001b[1;33m\u001b[0m\u001b[1;33m\u001b[0m\u001b[0m\n",
      "\u001b[1;32mC:\\ProgramData\\Anaconda3\\lib\\site-packages\\joblib\\_parallel_backends.py\u001b[0m in \u001b[0;36m__init__\u001b[1;34m(self, batch)\u001b[0m\n\u001b[0;32m    570\u001b[0m         \u001b[1;31m# Don't delay the application, to avoid keeping the input\u001b[0m\u001b[1;33m\u001b[0m\u001b[1;33m\u001b[0m\u001b[1;33m\u001b[0m\u001b[0m\n\u001b[0;32m    571\u001b[0m         \u001b[1;31m# arguments in memory\u001b[0m\u001b[1;33m\u001b[0m\u001b[1;33m\u001b[0m\u001b[1;33m\u001b[0m\u001b[0m\n\u001b[1;32m--> 572\u001b[1;33m         \u001b[0mself\u001b[0m\u001b[1;33m.\u001b[0m\u001b[0mresults\u001b[0m \u001b[1;33m=\u001b[0m \u001b[0mbatch\u001b[0m\u001b[1;33m(\u001b[0m\u001b[1;33m)\u001b[0m\u001b[1;33m\u001b[0m\u001b[1;33m\u001b[0m\u001b[0m\n\u001b[0m\u001b[0;32m    573\u001b[0m \u001b[1;33m\u001b[0m\u001b[0m\n\u001b[0;32m    574\u001b[0m     \u001b[1;32mdef\u001b[0m \u001b[0mget\u001b[0m\u001b[1;33m(\u001b[0m\u001b[0mself\u001b[0m\u001b[1;33m)\u001b[0m\u001b[1;33m:\u001b[0m\u001b[1;33m\u001b[0m\u001b[1;33m\u001b[0m\u001b[0m\n",
      "\u001b[1;32mC:\\ProgramData\\Anaconda3\\lib\\site-packages\\joblib\\parallel.py\u001b[0m in \u001b[0;36m__call__\u001b[1;34m(self)\u001b[0m\n\u001b[0;32m    260\u001b[0m         \u001b[1;31m# change the default number of processes to -1\u001b[0m\u001b[1;33m\u001b[0m\u001b[1;33m\u001b[0m\u001b[1;33m\u001b[0m\u001b[0m\n\u001b[0;32m    261\u001b[0m         \u001b[1;32mwith\u001b[0m \u001b[0mparallel_backend\u001b[0m\u001b[1;33m(\u001b[0m\u001b[0mself\u001b[0m\u001b[1;33m.\u001b[0m\u001b[0m_backend\u001b[0m\u001b[1;33m,\u001b[0m \u001b[0mn_jobs\u001b[0m\u001b[1;33m=\u001b[0m\u001b[0mself\u001b[0m\u001b[1;33m.\u001b[0m\u001b[0m_n_jobs\u001b[0m\u001b[1;33m)\u001b[0m\u001b[1;33m:\u001b[0m\u001b[1;33m\u001b[0m\u001b[1;33m\u001b[0m\u001b[0m\n\u001b[1;32m--> 262\u001b[1;33m             return [func(*args, **kwargs)\n\u001b[0m\u001b[0;32m    263\u001b[0m                     for func, args, kwargs in self.items]\n\u001b[0;32m    264\u001b[0m \u001b[1;33m\u001b[0m\u001b[0m\n",
      "\u001b[1;32mC:\\ProgramData\\Anaconda3\\lib\\site-packages\\joblib\\parallel.py\u001b[0m in \u001b[0;36m<listcomp>\u001b[1;34m(.0)\u001b[0m\n\u001b[0;32m    260\u001b[0m         \u001b[1;31m# change the default number of processes to -1\u001b[0m\u001b[1;33m\u001b[0m\u001b[1;33m\u001b[0m\u001b[1;33m\u001b[0m\u001b[0m\n\u001b[0;32m    261\u001b[0m         \u001b[1;32mwith\u001b[0m \u001b[0mparallel_backend\u001b[0m\u001b[1;33m(\u001b[0m\u001b[0mself\u001b[0m\u001b[1;33m.\u001b[0m\u001b[0m_backend\u001b[0m\u001b[1;33m,\u001b[0m \u001b[0mn_jobs\u001b[0m\u001b[1;33m=\u001b[0m\u001b[0mself\u001b[0m\u001b[1;33m.\u001b[0m\u001b[0m_n_jobs\u001b[0m\u001b[1;33m)\u001b[0m\u001b[1;33m:\u001b[0m\u001b[1;33m\u001b[0m\u001b[1;33m\u001b[0m\u001b[0m\n\u001b[1;32m--> 262\u001b[1;33m             return [func(*args, **kwargs)\n\u001b[0m\u001b[0;32m    263\u001b[0m                     for func, args, kwargs in self.items]\n\u001b[0;32m    264\u001b[0m \u001b[1;33m\u001b[0m\u001b[0m\n",
      "\u001b[1;32mC:\\ProgramData\\Anaconda3\\lib\\site-packages\\sklearn\\ensemble\\_forest.py\u001b[0m in \u001b[0;36m_parallel_build_trees\u001b[1;34m(tree, forest, X, y, sample_weight, tree_idx, n_trees, verbose, class_weight, n_samples_bootstrap)\u001b[0m\n\u001b[0;32m    166\u001b[0m                                                         indices=indices)\n\u001b[0;32m    167\u001b[0m \u001b[1;33m\u001b[0m\u001b[0m\n\u001b[1;32m--> 168\u001b[1;33m         \u001b[0mtree\u001b[0m\u001b[1;33m.\u001b[0m\u001b[0mfit\u001b[0m\u001b[1;33m(\u001b[0m\u001b[0mX\u001b[0m\u001b[1;33m,\u001b[0m \u001b[0my\u001b[0m\u001b[1;33m,\u001b[0m \u001b[0msample_weight\u001b[0m\u001b[1;33m=\u001b[0m\u001b[0mcurr_sample_weight\u001b[0m\u001b[1;33m,\u001b[0m \u001b[0mcheck_input\u001b[0m\u001b[1;33m=\u001b[0m\u001b[1;32mFalse\u001b[0m\u001b[1;33m)\u001b[0m\u001b[1;33m\u001b[0m\u001b[1;33m\u001b[0m\u001b[0m\n\u001b[0m\u001b[0;32m    169\u001b[0m     \u001b[1;32melse\u001b[0m\u001b[1;33m:\u001b[0m\u001b[1;33m\u001b[0m\u001b[1;33m\u001b[0m\u001b[0m\n\u001b[0;32m    170\u001b[0m         \u001b[0mtree\u001b[0m\u001b[1;33m.\u001b[0m\u001b[0mfit\u001b[0m\u001b[1;33m(\u001b[0m\u001b[0mX\u001b[0m\u001b[1;33m,\u001b[0m \u001b[0my\u001b[0m\u001b[1;33m,\u001b[0m \u001b[0msample_weight\u001b[0m\u001b[1;33m=\u001b[0m\u001b[0msample_weight\u001b[0m\u001b[1;33m,\u001b[0m \u001b[0mcheck_input\u001b[0m\u001b[1;33m=\u001b[0m\u001b[1;32mFalse\u001b[0m\u001b[1;33m)\u001b[0m\u001b[1;33m\u001b[0m\u001b[1;33m\u001b[0m\u001b[0m\n",
      "\u001b[1;32mC:\\ProgramData\\Anaconda3\\lib\\site-packages\\sklearn\\tree\\_classes.py\u001b[0m in \u001b[0;36mfit\u001b[1;34m(self, X, y, sample_weight, check_input, X_idx_sorted)\u001b[0m\n\u001b[0;32m   1240\u001b[0m         \"\"\"\n\u001b[0;32m   1241\u001b[0m \u001b[1;33m\u001b[0m\u001b[0m\n\u001b[1;32m-> 1242\u001b[1;33m         super().fit(\n\u001b[0m\u001b[0;32m   1243\u001b[0m             \u001b[0mX\u001b[0m\u001b[1;33m,\u001b[0m \u001b[0my\u001b[0m\u001b[1;33m,\u001b[0m\u001b[1;33m\u001b[0m\u001b[1;33m\u001b[0m\u001b[0m\n\u001b[0;32m   1244\u001b[0m             \u001b[0msample_weight\u001b[0m\u001b[1;33m=\u001b[0m\u001b[0msample_weight\u001b[0m\u001b[1;33m,\u001b[0m\u001b[1;33m\u001b[0m\u001b[1;33m\u001b[0m\u001b[0m\n",
      "\u001b[1;32mC:\\ProgramData\\Anaconda3\\lib\\site-packages\\sklearn\\tree\\_classes.py\u001b[0m in \u001b[0;36mfit\u001b[1;34m(self, X, y, sample_weight, check_input, X_idx_sorted)\u001b[0m\n\u001b[0;32m    334\u001b[0m                                                          self.n_classes_)\n\u001b[0;32m    335\u001b[0m             \u001b[1;32melse\u001b[0m\u001b[1;33m:\u001b[0m\u001b[1;33m\u001b[0m\u001b[1;33m\u001b[0m\u001b[0m\n\u001b[1;32m--> 336\u001b[1;33m                 criterion = CRITERIA_REG[self.criterion](self.n_outputs_,\n\u001b[0m\u001b[0;32m    337\u001b[0m                                                          n_samples)\n\u001b[0;32m    338\u001b[0m \u001b[1;33m\u001b[0m\u001b[0m\n",
      "\u001b[1;31mKeyError\u001b[0m: 'gini'"
     ]
    }
   ],
   "source": [
    "grid_search.fit(df_data_prepared,y_train_data_set)"
   ]
  },
  {
   "cell_type": "code",
   "execution_count": null,
   "metadata": {},
   "outputs": [],
   "source": []
  },
  {
   "cell_type": "code",
   "execution_count": 36,
   "metadata": {},
   "outputs": [
    {
     "data": {
      "text/plain": [
       "{'criterion': 'gini',\n",
       " 'max_depth': 2,\n",
       " 'max_features': 'auto',\n",
       " 'min_samples_leaf': 1,\n",
       " 'min_samples_split': 2,\n",
       " 'n_estimators': 90}"
      ]
     },
     "execution_count": 36,
     "metadata": {},
     "output_type": "execute_result"
    }
   ],
   "source": [
    "grid_search.best_params_"
   ]
  },
  {
   "cell_type": "code",
   "execution_count": null,
   "metadata": {},
   "outputs": [],
   "source": []
  },
  {
   "cell_type": "code",
   "execution_count": 45,
   "metadata": {
    "scrolled": true
   },
   "outputs": [
    {
     "data": {
      "text/plain": [
       "RandomForestRegressor(max_depth=2, n_estimators=90)"
      ]
     },
     "execution_count": 45,
     "metadata": {},
     "output_type": "execute_result"
    }
   ],
   "source": [
    "DTR = RandomForestRegressor(criterion='mse',\n",
    " max_depth=2,\n",
    " max_features='auto',\n",
    " min_samples_leaf= 1,\n",
    " min_samples_split= 2,\n",
    " n_estimators= 90)\n",
    "DTR.fit(df_data_prepared,y_train_data_set)"
   ]
  },
  {
   "cell_type": "code",
   "execution_count": 46,
   "metadata": {},
   "outputs": [
    {
     "data": {
      "text/plain": [
       "1.0"
      ]
     },
     "execution_count": 46,
     "metadata": {},
     "output_type": "execute_result"
    }
   ],
   "source": [
    "DTR.score(df_test_data_prepared,y_test_data_set)"
   ]
  },
  {
   "cell_type": "code",
   "execution_count": 50,
   "metadata": {},
   "outputs": [
    {
     "data": {
      "text/plain": [
       "1.0"
      ]
     },
     "execution_count": 50,
     "metadata": {},
     "output_type": "execute_result"
    }
   ],
   "source": [
    "from sklearn.metrics import f1_score\n",
    "test_predict_DTR = DTR.predict(df_test_data_prepared)\n",
    "score = f1_score( y_test_data_set,test_predict_DTR, average=\"macro\")\n",
    "score"
   ]
  },
  {
   "cell_type": "code",
   "execution_count": 51,
   "metadata": {},
   "outputs": [
    {
     "name": "stdout",
     "output_type": "stream",
     "text": [
      "1.0\n",
      "1.0\n",
      "1.0\n",
      "\n",
      "-----------------------------------------------\n",
      "\n",
      "0.0\n",
      "0.0\n",
      "0.0\n",
      "[[16500]]\n",
      "              precision    recall  f1-score   support\n",
      "\n",
      "           0       1.00      1.00      1.00     16500\n",
      "\n",
      "    accuracy                           1.00     16500\n",
      "   macro avg       1.00      1.00      1.00     16500\n",
      "weighted avg       1.00      1.00      1.00     16500\n",
      "\n"
     ]
    },
    {
     "name": "stderr",
     "output_type": "stream",
     "text": [
      "C:\\ProgramData\\Anaconda3\\lib\\site-packages\\sklearn\\metrics\\_classification.py:1464: UndefinedMetricWarning: F-score is ill-defined and being set to 0.0 due to no true nor predicted samples. Use `zero_division` parameter to control this behavior.\n",
      "  _warn_prf(\n",
      "C:\\ProgramData\\Anaconda3\\lib\\site-packages\\sklearn\\metrics\\_classification.py:1221: UndefinedMetricWarning: Precision is ill-defined and being set to 0.0 due to no predicted samples. Use `zero_division` parameter to control this behavior.\n",
      "  _warn_prf(average, modifier, msg_start, len(result))\n",
      "C:\\ProgramData\\Anaconda3\\lib\\site-packages\\sklearn\\metrics\\_classification.py:1221: UndefinedMetricWarning: Recall is ill-defined and being set to 0.0 due to no true samples. Use `zero_division` parameter to control this behavior.\n",
      "  _warn_prf(average, modifier, msg_start, len(result))\n"
     ]
    }
   ],
   "source": [
    "from sklearn.metrics import accuracy_score, f1_score, precision_score, recall_score, classification_report, confusion_matrix\n",
    "print(f1_score(y_test_data_set, test_predict_DTR, average=\"macro\"))\n",
    "print(precision_score(y_test_data_set, test_predict_DTR, average=\"macro\"))\n",
    "print(recall_score(y_test_data_set, test_predict_DTR, average=\"macro\"))  \n",
    "print(\"\\n-----------------------------------------------\\n\")\n",
    "print(f1_score(y_test_data_set, test_predict_DTR))\n",
    "print(precision_score(y_test_data_set, test_predict_DTR))\n",
    "print(recall_score(y_test_data_set, test_predict_DTR)) \n",
    "print(confusion_matrix(y_test_data_set, test_predict_DTR))\n",
    "print(classification_report(y_test_data_set, test_predict_DTR))"
   ]
  },
  {
   "cell_type": "code",
   "execution_count": null,
   "metadata": {},
   "outputs": [],
   "source": []
  },
  {
   "cell_type": "markdown",
   "metadata": {},
   "source": [
    "# XGBOOST"
   ]
  },
  {
   "cell_type": "code",
   "execution_count": 52,
   "metadata": {},
   "outputs": [],
   "source": [
    "params = [{ 'learning_rate':[0.01,0.001],\n",
    "                        'max_depth': [3,5,10,15],\n",
    "                        'n_estimators':[10,50,100,200]\n",
    "                    }\n",
    "                   ]"
   ]
  },
  {
   "cell_type": "code",
   "execution_count": 54,
   "metadata": {},
   "outputs": [
    {
     "name": "stdout",
     "output_type": "stream",
     "text": [
      "Fitting 5 folds for each of 32 candidates, totalling 160 fits\n"
     ]
    },
    {
     "name": "stderr",
     "output_type": "stream",
     "text": [
      "[Parallel(n_jobs=3)]: Using backend LokyBackend with 3 concurrent workers.\n",
      "[Parallel(n_jobs=3)]: Done  26 tasks      | elapsed:    9.0s\n",
      "[Parallel(n_jobs=3)]: Done 122 tasks      | elapsed:   28.0s\n"
     ]
    },
    {
     "name": "stdout",
     "output_type": "stream",
     "text": [
      "[06:36:34] WARNING: C:/Users/Administrator/workspace/xgboost-win64_release_1.3.0/src/learner.cc:1061: Starting in XGBoost 1.3.0, the default evaluation metric used with the objective 'binary:logistic' was changed from 'error' to 'logloss'. Explicitly set eval_metric if you'd like to restore the old behavior.\n"
     ]
    },
    {
     "name": "stderr",
     "output_type": "stream",
     "text": [
      "[Parallel(n_jobs=3)]: Done 160 out of 160 | elapsed:   34.8s finished\n",
      "C:\\ProgramData\\Anaconda3\\lib\\site-packages\\xgboost\\sklearn.py:888: UserWarning: The use of label encoder in XGBClassifier is deprecated and will be removed in a future release. To remove this warning, do the following: 1) Pass option use_label_encoder=False when constructing XGBClassifier object; and 2) Encode your labels (y) as integers starting with 0, i.e. 0, 1, 2, ..., [num_class - 1].\n",
      "  warnings.warn(label_encoder_deprecation_msg, UserWarning)\n"
     ]
    },
    {
     "data": {
      "text/plain": [
       "GridSearchCV(cv=5,\n",
       "             estimator=XGBClassifier(base_score=None, booster=None,\n",
       "                                     colsample_bylevel=None,\n",
       "                                     colsample_bynode=None,\n",
       "                                     colsample_bytree=None, gamma=None,\n",
       "                                     gpu_id=None, importance_type='gain',\n",
       "                                     interaction_constraints=None,\n",
       "                                     learning_rate=None, max_delta_step=None,\n",
       "                                     max_depth=None, min_child_weight=None,\n",
       "                                     missing=nan, monotone_constraints=None,\n",
       "                                     n_estimators=100, n_jobs=None,\n",
       "                                     num_parallel_tree=None, random_state=None,\n",
       "                                     reg_alpha=None, reg_lambda=None,\n",
       "                                     scale_pos_weight=None, subsample=None,\n",
       "                                     tree_method=None, validate_parameters=None,\n",
       "                                     verbosity=None),\n",
       "             n_jobs=3,\n",
       "             param_grid=[{'learning_rate': [0.01, 0.001],\n",
       "                          'max_depth': [3, 5, 10, 15],\n",
       "                          'n_estimators': [10, 50, 100, 200]}],\n",
       "             scoring='accuracy', verbose=3)"
      ]
     },
     "execution_count": 54,
     "metadata": {},
     "output_type": "execute_result"
    }
   ],
   "source": [
    "from sklearn.model_selection import GridSearchCV\n",
    "from xgboost import XGBClassifier\n",
    "Xbc = XGBClassifier()\n",
    "Gcv = GridSearchCV(Xbc,params,scoring='accuracy',cv=5,n_jobs=3,verbose=3)\n",
    "Gcv.fit(df_data_prepared,y_train_data_set)"
   ]
  },
  {
   "cell_type": "code",
   "execution_count": 55,
   "metadata": {},
   "outputs": [
    {
     "data": {
      "text/plain": [
       "{'learning_rate': 0.01, 'max_depth': 3, 'n_estimators': 10}"
      ]
     },
     "execution_count": 55,
     "metadata": {},
     "output_type": "execute_result"
    }
   ],
   "source": [
    "Gcv.best_params_"
   ]
  },
  {
   "cell_type": "code",
   "execution_count": 57,
   "metadata": {},
   "outputs": [
    {
     "name": "stdout",
     "output_type": "stream",
     "text": [
      "[06:40:07] WARNING: C:/Users/Administrator/workspace/xgboost-win64_release_1.3.0/src/learner.cc:1061: Starting in XGBoost 1.3.0, the default evaluation metric used with the objective 'binary:logistic' was changed from 'error' to 'logloss'. Explicitly set eval_metric if you'd like to restore the old behavior.\n"
     ]
    },
    {
     "data": {
      "text/plain": [
       "XGBClassifier(base_score=0.5, booster='gbtree', colsample_bylevel=1,\n",
       "              colsample_bynode=1, colsample_bytree=1, gamma=0, gpu_id=-1,\n",
       "              importance_type='gain', interaction_constraints='',\n",
       "              learning_rate=0.01, max_delta_step=0, max_depth=3,\n",
       "              min_child_weight=1, missing=nan, monotone_constraints='()',\n",
       "              n_estimators=10, n_jobs=8, num_parallel_tree=1, random_state=0,\n",
       "              reg_alpha=0, reg_lambda=1, scale_pos_weight=1, subsample=1,\n",
       "              tree_method='exact', validate_parameters=1, verbosity=None)"
      ]
     },
     "execution_count": 57,
     "metadata": {},
     "output_type": "execute_result"
    }
   ],
   "source": [
    "XBC = XGBClassifier(learning_rate=0.01,max_depth=3,n_estimators=10)\n",
    "XBC.fit(df_data_prepared,y_train_data_set)"
   ]
  },
  {
   "cell_type": "code",
   "execution_count": null,
   "metadata": {},
   "outputs": [],
   "source": []
  },
  {
   "cell_type": "code",
   "execution_count": null,
   "metadata": {},
   "outputs": [],
   "source": []
  },
  {
   "cell_type": "code",
   "execution_count": 59,
   "metadata": {},
   "outputs": [
    {
     "data": {
      "text/plain": [
       "1.0"
      ]
     },
     "execution_count": 59,
     "metadata": {},
     "output_type": "execute_result"
    }
   ],
   "source": [
    "XBC.score(df_test_data_prepared,y_test_data_set)"
   ]
  },
  {
   "cell_type": "code",
   "execution_count": 60,
   "metadata": {},
   "outputs": [],
   "source": [
    "test_predict = XBC.predict(df_test_data_prepared)"
   ]
  },
  {
   "cell_type": "code",
   "execution_count": 61,
   "metadata": {},
   "outputs": [],
   "source": [
    "from sklearn.metrics import f1_score\n",
    "score = f1_score(test_predict, y_test_data_set, average=\"macro\")"
   ]
  },
  {
   "cell_type": "code",
   "execution_count": 62,
   "metadata": {},
   "outputs": [
    {
     "data": {
      "text/plain": [
       "1.0"
      ]
     },
     "execution_count": 62,
     "metadata": {},
     "output_type": "execute_result"
    }
   ],
   "source": [
    "score"
   ]
  },
  {
   "cell_type": "code",
   "execution_count": 63,
   "metadata": {},
   "outputs": [
    {
     "name": "stdout",
     "output_type": "stream",
     "text": [
      "1.0\n",
      "1.0\n",
      "1.0\n",
      "\n",
      "-----------------------------------------------\n",
      "\n",
      "0.0\n",
      "0.0\n",
      "0.0\n",
      "[[16500]]\n",
      "              precision    recall  f1-score   support\n",
      "\n",
      "           0       1.00      1.00      1.00     16500\n",
      "\n",
      "    accuracy                           1.00     16500\n",
      "   macro avg       1.00      1.00      1.00     16500\n",
      "weighted avg       1.00      1.00      1.00     16500\n",
      "\n"
     ]
    },
    {
     "name": "stderr",
     "output_type": "stream",
     "text": [
      "C:\\ProgramData\\Anaconda3\\lib\\site-packages\\sklearn\\metrics\\_classification.py:1464: UndefinedMetricWarning: F-score is ill-defined and being set to 0.0 due to no true nor predicted samples. Use `zero_division` parameter to control this behavior.\n",
      "  _warn_prf(\n",
      "C:\\ProgramData\\Anaconda3\\lib\\site-packages\\sklearn\\metrics\\_classification.py:1221: UndefinedMetricWarning: Precision is ill-defined and being set to 0.0 due to no predicted samples. Use `zero_division` parameter to control this behavior.\n",
      "  _warn_prf(average, modifier, msg_start, len(result))\n",
      "C:\\ProgramData\\Anaconda3\\lib\\site-packages\\sklearn\\metrics\\_classification.py:1221: UndefinedMetricWarning: Recall is ill-defined and being set to 0.0 due to no true samples. Use `zero_division` parameter to control this behavior.\n",
      "  _warn_prf(average, modifier, msg_start, len(result))\n"
     ]
    }
   ],
   "source": [
    "from sklearn.metrics import accuracy_score, f1_score, precision_score, recall_score, classification_report, confusion_matrix\n",
    "print(f1_score(y_test_data_set, test_predict, average=\"macro\"))\n",
    "print(precision_score(y_test_data_set, test_predict, average=\"macro\"))\n",
    "print(recall_score(y_test_data_set, test_predict, average=\"macro\"))  \n",
    "print(\"\\n-----------------------------------------------\\n\")\n",
    "print(f1_score(y_test_data_set, test_predict))\n",
    "print(precision_score(y_test_data_set, test_predict))\n",
    "print(recall_score(y_test_data_set, test_predict)) \n",
    "print(confusion_matrix(y_test_data_set, test_predict))\n",
    "print(classification_report(y_test_data_set, test_predict))"
   ]
  },
  {
   "cell_type": "code",
   "execution_count": null,
   "metadata": {},
   "outputs": [],
   "source": []
  },
  {
   "cell_type": "code",
   "execution_count": null,
   "metadata": {},
   "outputs": [],
   "source": []
  },
  {
   "cell_type": "code",
   "execution_count": null,
   "metadata": {},
   "outputs": [],
   "source": []
  },
  {
   "cell_type": "markdown",
   "metadata": {},
   "source": [
    "# DecisionTreeClassifier"
   ]
  },
  {
   "cell_type": "code",
   "execution_count": 65,
   "metadata": {},
   "outputs": [
    {
     "data": {
      "text/plain": [
       "1.0"
      ]
     },
     "execution_count": 65,
     "metadata": {},
     "output_type": "execute_result"
    }
   ],
   "source": [
    "from sklearn.tree import DecisionTreeClassifier, export_graphviz\n",
    "clf = DecisionTreeClassifier()\n",
    "clf.fit(df_data_prepared,y_train_data_set)\n",
    "clf.score(df_test_data_prepared,y_test_data_set)"
   ]
  },
  {
   "cell_type": "code",
   "execution_count": 66,
   "metadata": {},
   "outputs": [],
   "source": [
    "grid_param = {\n",
    "    'criterion': ['gini', 'entropy'],\n",
    "    'max_depth' : range(2,32,1),\n",
    "    'min_samples_leaf' : range(1,10,1),\n",
    "    'min_samples_split': range(2,10,1),\n",
    "    'splitter' : ['best', 'random']\n",
    "    \n",
    "}"
   ]
  },
  {
   "cell_type": "code",
   "execution_count": 67,
   "metadata": {},
   "outputs": [],
   "source": [
    "grid_search = GridSearchCV(estimator=clf,\n",
    "                     param_grid=grid_param,\n",
    "                     cv=5,\n",
    "                    n_jobs =-1)"
   ]
  },
  {
   "cell_type": "code",
   "execution_count": 69,
   "metadata": {},
   "outputs": [
    {
     "data": {
      "text/plain": [
       "GridSearchCV(cv=5, estimator=DecisionTreeClassifier(), n_jobs=-1,\n",
       "             param_grid={'criterion': ['gini', 'entropy'],\n",
       "                         'max_depth': range(2, 32),\n",
       "                         'min_samples_leaf': range(1, 10),\n",
       "                         'min_samples_split': range(2, 10),\n",
       "                         'splitter': ['best', 'random']})"
      ]
     },
     "execution_count": 69,
     "metadata": {},
     "output_type": "execute_result"
    }
   ],
   "source": [
    "grid_search.fit(df_data_prepared,y_train_data_set)"
   ]
  },
  {
   "cell_type": "code",
   "execution_count": 70,
   "metadata": {},
   "outputs": [
    {
     "name": "stdout",
     "output_type": "stream",
     "text": [
      "{'criterion': 'gini', 'max_depth': 2, 'min_samples_leaf': 1, 'min_samples_split': 2, 'splitter': 'best'}\n"
     ]
    }
   ],
   "source": [
    "best_parameters = grid_search.best_params_\n",
    "print(best_parameters)"
   ]
  },
  {
   "cell_type": "code",
   "execution_count": 71,
   "metadata": {},
   "outputs": [
    {
     "data": {
      "text/plain": [
       "1.0"
      ]
     },
     "execution_count": 71,
     "metadata": {},
     "output_type": "execute_result"
    }
   ],
   "source": [
    "grid_search.best_score_"
   ]
  },
  {
   "cell_type": "code",
   "execution_count": 72,
   "metadata": {},
   "outputs": [
    {
     "data": {
      "text/plain": [
       "DecisionTreeClassifier(max_depth=2)"
      ]
     },
     "execution_count": 72,
     "metadata": {},
     "output_type": "execute_result"
    }
   ],
   "source": [
    "clf = DecisionTreeClassifier(criterion = 'gini', max_depth =2, min_samples_leaf= 1, min_samples_split= 2, splitter ='best')\n",
    "clf.fit(df_data_prepared,y_train_data_set)"
   ]
  },
  {
   "cell_type": "code",
   "execution_count": 73,
   "metadata": {},
   "outputs": [
    {
     "data": {
      "text/plain": [
       "1.0"
      ]
     },
     "execution_count": 73,
     "metadata": {},
     "output_type": "execute_result"
    }
   ],
   "source": [
    "clf.score(df_test_data_prepared,y_test_data_set)"
   ]
  },
  {
   "cell_type": "code",
   "execution_count": 74,
   "metadata": {},
   "outputs": [],
   "source": [
    "test_predict_dt = clf.predict(df_test_data_prepared)"
   ]
  },
  {
   "cell_type": "code",
   "execution_count": 75,
   "metadata": {},
   "outputs": [
    {
     "name": "stdout",
     "output_type": "stream",
     "text": [
      "1.0\n",
      "1.0\n",
      "1.0\n",
      "\n",
      "-----------------------------------------------\n",
      "\n",
      "0.0\n",
      "0.0\n",
      "0.0\n",
      "[[16500]]\n",
      "              precision    recall  f1-score   support\n",
      "\n",
      "           0       1.00      1.00      1.00     16500\n",
      "\n",
      "    accuracy                           1.00     16500\n",
      "   macro avg       1.00      1.00      1.00     16500\n",
      "weighted avg       1.00      1.00      1.00     16500\n",
      "\n"
     ]
    },
    {
     "name": "stderr",
     "output_type": "stream",
     "text": [
      "C:\\ProgramData\\Anaconda3\\lib\\site-packages\\sklearn\\metrics\\_classification.py:1464: UndefinedMetricWarning: F-score is ill-defined and being set to 0.0 due to no true nor predicted samples. Use `zero_division` parameter to control this behavior.\n",
      "  _warn_prf(\n",
      "C:\\ProgramData\\Anaconda3\\lib\\site-packages\\sklearn\\metrics\\_classification.py:1221: UndefinedMetricWarning: Precision is ill-defined and being set to 0.0 due to no predicted samples. Use `zero_division` parameter to control this behavior.\n",
      "  _warn_prf(average, modifier, msg_start, len(result))\n",
      "C:\\ProgramData\\Anaconda3\\lib\\site-packages\\sklearn\\metrics\\_classification.py:1221: UndefinedMetricWarning: Recall is ill-defined and being set to 0.0 due to no true samples. Use `zero_division` parameter to control this behavior.\n",
      "  _warn_prf(average, modifier, msg_start, len(result))\n"
     ]
    }
   ],
   "source": [
    "from sklearn.metrics import accuracy_score, f1_score, precision_score, recall_score, classification_report, confusion_matrix\n",
    "print(f1_score(y_test_data_set, test_predict_dt, average=\"macro\"))\n",
    "print(precision_score(y_test_data_set, test_predict_dt, average=\"macro\"))\n",
    "print(recall_score(y_test_data_set, test_predict_dt, average=\"macro\"))  \n",
    "print(\"\\n-----------------------------------------------\\n\")\n",
    "print(f1_score(y_test_data_set, test_predict_dt))\n",
    "print(precision_score(y_test_data_set, test_predict_dt))\n",
    "print(recall_score(y_test_data_set, test_predict_dt)) \n",
    "print(confusion_matrix(y_test_data_set, test_predict_dt))\n",
    "print(classification_report(y_test_data_set, test_predict_dt))"
   ]
  },
  {
   "cell_type": "code",
   "execution_count": null,
   "metadata": {},
   "outputs": [],
   "source": []
  },
  {
   "cell_type": "code",
   "execution_count": null,
   "metadata": {},
   "outputs": [],
   "source": []
  },
  {
   "cell_type": "code",
   "execution_count": null,
   "metadata": {},
   "outputs": [],
   "source": []
  }
 ],
 "metadata": {
  "kernelspec": {
   "display_name": "Python 3",
   "language": "python",
   "name": "python3"
  },
  "language_info": {
   "codemirror_mode": {
    "name": "ipython",
    "version": 3
   },
   "file_extension": ".py",
   "mimetype": "text/x-python",
   "name": "python",
   "nbconvert_exporter": "python",
   "pygments_lexer": "ipython3",
   "version": "3.8.5"
  }
 },
 "nbformat": 4,
 "nbformat_minor": 4
}
